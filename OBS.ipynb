{
 "cells": [
  {
   "cell_type": "code",
   "execution_count": 2,
   "metadata": {},
   "outputs": [
    {
     "name": "stdout",
     "output_type": "stream",
     "text": [
      "Requirement already satisfied: selenium in c:\\users\\jeanne\\anaconda3\\lib\\site-packages (3.141.0)\n",
      "Requirement already satisfied: urllib3 in c:\\users\\jeanne\\anaconda3\\lib\\site-packages (from selenium) (1.25.11)\n",
      "Note: you may need to restart the kernel to use updated packages.\n"
     ]
    }
   ],
   "source": [
    "#pip install selenium"
   ]
  },
  {
   "cell_type": "code",
   "execution_count": 74,
   "metadata": {},
   "outputs": [],
   "source": [
    "from selenium import webdriver\n",
    "from selenium.webdriver.common.keys import Keys\n",
    "import pandas as pd\n",
    "import numpy as np\n",
    "import time\n",
    "from bs4 import BeautifulSoup\n",
    "import math"
   ]
  },
  {
   "cell_type": "code",
   "execution_count": 75,
   "metadata": {},
   "outputs": [],
   "source": [
    "sr = pd.read_csv(\"/Users/Jeanne/Documents/personal/Auction Results/soldresults10yr.csv\")\n",
    "hrn = pd.read_csv(\"/Users/Jeanne/Documents/personal/Auction Results/hrn.csv\")"
   ]
  },
  {
   "cell_type": "code",
   "execution_count": 76,
   "metadata": {},
   "outputs": [
    {
     "data": {
      "text/plain": [
       "14591"
      ]
     },
     "execution_count": 76,
     "metadata": {},
     "output_type": "execute_result"
    }
   ],
   "source": [
    "master = list(sr['Damf'])\n",
    "master.extend(list(sr['Siref']))\n",
    "master.extend(list(sr['DS']))\n",
    "hrnlist = list(hrn['Horse'])\n",
    "\n",
    "df = hrn\n",
    "headers = ['Date', 'Horse', 'Fin', 'Tr', 'Dist.', 'Sf.', 'Race', 'Cnd', '1st', '2nd', '3rd', 'Time']\n",
    "df = df.drop(columns=[col for col in df if col not in headers])\n",
    "\n",
    "new = [x for x in master if x not in hrnlist]\n",
    "final = []\n",
    "[final.append(x) for x in new if x not in final]\n",
    "\n",
    "floats = list()\n",
    "for i in final:\n",
    "    if type(i) is float:\n",
    "        floats.append(i)\n",
    "\n",
    "cleaned = [x for x in final if str(x) != 'nan']\n",
    "len(cleaned)"
   ]
  },
  {
   "cell_type": "code",
   "execution_count": 62,
   "metadata": {},
   "outputs": [
    {
     "data": {
      "text/plain": [
       "Index(['Date', 'Horse', 'Fin', 'Tr', 'Dist.', 'Sf.', 'Race', 'Cnd', '1st',\n",
       "       '2nd', '3rd', 'Time'],\n",
       "      dtype='object')"
      ]
     },
     "execution_count": 62,
     "metadata": {},
     "output_type": "execute_result"
    }
   ],
   "source": [
    "df.columns"
   ]
  },
  {
   "cell_type": "code",
   "execution_count": 77,
   "metadata": {},
   "outputs": [
    {
     "data": {
      "text/plain": [
       "['Note_to_Mimi',\n",
       " 'Party_Ribbon',\n",
       " 'Pearlwood',\n",
       " 'Pretty_Indian',\n",
       " 'Princess_Caveat',\n",
       " 'Private_Fun',\n",
       " 'Private_Prom_Party',\n",
       " 'Really_Quick',\n",
       " 'Retroesque',\n",
       " 'Rickey_Raja',\n",
       " 'Road_to_Honor',\n",
       " 'Royal_Navy',\n",
       " 'Salty_Lady',\n",
       " 'Sharp_n_Strong',\n",
       " 'Singing_in_the_Sun',\n",
       " 'Sky_Ruckus',\n",
       " 'Sofisticada',\n",
       " 'Star_of_My_Eye',\n",
       " 'Summit_Lite',\n",
       " 'Super_Deelites',\n",
       " 'Swift_Girl',\n",
       " 'Time_for_Jazz',\n",
       " 'Toasttofriendship',\n",
       " 'Tropez',\n",
       " 'Unbridled_Queen',\n",
       " 'Very_Special_Lite',\n",
       " 'Wanna_Kat',\n",
       " 'Wild_Libby',\n",
       " 'Aleutian_Gold',\n",
       " 'Ampulla',\n",
       " 'Aunti_Hattie',\n",
       " 'Backfield_N_Motion',\n",
       " 'Brilliant_Melody',\n",
       " 'Broadway_Hoofer',\n",
       " 'Chickasaw',\n",
       " 'Chit_Chatter',\n",
       " 'Club_Meeting',\n",
       " 'Comfort_a_Belle',\n",
       " 'Countess_Avie',\n",
       " 'Craftimae',\n",
       " 'Crystal_Symphony',\n",
       " 'Dance_Forthe_Green',\n",
       " 'Delirium',\n",
       " 'Dixie_Talent',\n",
       " 'Double_Flyight',\n",
       " 'Fast_Profit',\n",
       " 'Fly_Apple_Shu',\n",
       " 'Glitz_N_Gold',\n",
       " 'Gold_Bag_Lady',\n",
       " 'Gold_Khalifa',\n",
       " 'Gold_Tempo',\n",
       " 'Greenislandancer',\n",
       " 'Harbor_Sunrise',\n",
       " 'Health_Farm',\n",
       " 'Heavenly_Gift',\n",
       " 'Hot_Rod_Helen',\n",
       " 'Houston_Tune',\n",
       " 'Lightning_Forbes',\n",
       " 'Lovely_Cabrini',\n",
       " 'Mere_Presence',\n",
       " 'Miss_Storm_Song',\n",
       " 'Miswila',\n",
       " 'Monday_Saint',\n",
       " 'Nabatina',\n",
       " 'No_Penicillin',\n",
       " 'Ought_to_Be_Jazz',\n",
       " 'Palmetto_Bay',\n",
       " 'Pansy',\n",
       " 'Peau_de_Soie',\n",
       " 'Penilee',\n",
       " 'Princess_Dehere',\n",
       " 'Proud_Minstrel',\n",
       " 'Pure_Radiance',\n",
       " 'Pyrite_Flower',\n",
       " 'Raging_Beauty',\n",
       " 'Regal_Kate',\n",
       " 'Regal_Snicker',\n",
       " 'Roshneti',\n",
       " 'Sealskin',\n",
       " 'Shades_of_Green',\n",
       " 'Shesdresinuptowin',\n",
       " 'Silver_Taler',\n",
       " 'Single_Blade',\n",
       " 'Social_Security',\n",
       " 'Solid_Claim',\n",
       " 'Split_Decision',\n",
       " 'Story_Book_Girl',\n",
       " 'Struttin_On_Union',\n",
       " 'Summer_School',\n",
       " 'Swan_Lake',\n",
       " 'Thresholdoflove',\n",
       " 'Toosie',\n",
       " 'Trisha_Runs',\n",
       " 'Via_Mizner',\n",
       " 'Walkerton',\n",
       " 'Wee_Bit_of_Heaven',\n",
       " 'Wicks_Island',\n",
       " 'Witch_of_the_Air',\n",
       " 'Zoobit',\n",
       " 'Adoring',\n",
       " 'American_Saint',\n",
       " 'Antilassa',\n",
       " 'Anti_Versary',\n",
       " 'April_Gift',\n",
       " 'Aunt_Carol',\n",
       " 'Awesome_Medicine',\n",
       " 'Barronette',\n",
       " 'Bat_Prospector',\n",
       " 'Beach_of_Bali',\n",
       " 'Bee_in_a_Bonnet',\n",
       " 'Belmont_Kate',\n",
       " 'Big_Monday',\n",
       " 'Bisbee',\n",
       " 'Black_Bacardi',\n",
       " 'Blessings',\n",
       " 'Bold_Whim',\n",
       " 'Bridge_to_Cross',\n",
       " 'Cali_Cali',\n",
       " 'Checker_Hall',\n",
       " 'Cheyennes_Approval',\n",
       " 'Cochet_Cochet',\n",
       " 'Cupcake',\n",
       " 'Dame_Sylvieguilhem',\n",
       " 'Dance_Diane',\n",
       " 'Dazzling_Deelite',\n",
       " 'Delirio',\n",
       " 'Devilzene',\n",
       " 'Diamondruna',\n",
       " 'Dimontina',\n",
       " 'Dixieland_Event',\n",
       " 'Dovv_Lady',\n",
       " 'Echelon_Lady',\n",
       " 'Eggs_Binnedict',\n",
       " 'Expected_Temper',\n",
       " 'Filha_Do_Ar',\n",
       " 'Fine_Prospect',\n",
       " 'Flip_the_Trip',\n",
       " 'Fog_Dance',\n",
       " 'Four_Point_Play',\n",
       " 'Free_Skate',\n",
       " 'Golden_Park',\n",
       " 'Gold_Gram',\n",
       " 'Good_for_Her',\n",
       " 'Gratorious',\n",
       " 'Guana_Caste',\n",
       " 'High_Margin',\n",
       " 'Honorable_Halo',\n",
       " 'I_Died_Laughing',\n",
       " 'Island_Fire',\n",
       " 'Jamerica',\n",
       " 'Katoshu',\n",
       " 'Lady_Caveat',\n",
       " 'Leafs_of_Silver',\n",
       " 'Legendary',\n",
       " 'Little_Champ',\n",
       " 'Loen_Salt',\n",
       " 'Love_Or_Money',\n",
       " 'Love_to_Fight',\n",
       " 'Luricon',\n",
       " 'Mambo_Girl',\n",
       " 'Maria_Dolores',\n",
       " 'Marijen',\n",
       " 'Miniriza',\n",
       " 'Mistress_Fletcher',\n",
       " 'Misty_Expectation',\n",
       " 'Mountrhythm',\n",
       " 'Sewing_Lady',\n",
       " 'Sharp_Type',\n",
       " 'Shiny_City_Shoes',\n",
       " 'Shivering_Fax',\n",
       " 'Simply_Runaway',\n",
       " 'Spot_the_Class',\n",
       " 'Spring_Tour',\n",
       " 'Valse_Musette',\n",
       " 'White_Heron',\n",
       " 'Alarming_Prospect',\n",
       " 'Appealing_Andover',\n",
       " 'Chantelle_Lace',\n",
       " 'Chicopee',\n",
       " 'Crafty_Taylor',\n",
       " 'Dame_Avie',\n",
       " 'Diamond_Corner',\n",
       " 'Forest_Mystery',\n",
       " 'Gala_Regatta',\n",
       " 'Glittering_Georgia',\n",
       " 'Inca_Sun',\n",
       " 'Jump_With_Joy',\n",
       " 'Kitty_Dehere',\n",
       " 'L_X_Pretty_Woman',\n",
       " 'Malindi',\n",
       " 'Marquet_Niche',\n",
       " 'No_Beans',\n",
       " 'Personal_Line',\n",
       " 'Positive_Attitude',\n",
       " 'Project_Liberty',\n",
       " 'Prosperous_de_Oro',\n",
       " 'Queen_Dancing',\n",
       " 'Ravia',\n",
       " 'Read_Me_My_Rights',\n",
       " 'Renata_Mia',\n",
       " 'Silk_Petticoat',\n",
       " 'Slipthejab',\n",
       " 'Small_Vices',\n",
       " 'Soft_Shoe_Dancer',\n",
       " 'Song_of_the_Wild',\n",
       " 'Steel_Shed',\n",
       " 'Sweet_Serenade',\n",
       " 'Swift_Alliance',\n",
       " 'Talullah',\n",
       " 'Theatrical_Review',\n",
       " 'Tinge',\n",
       " 'Trespasser',\n",
       " 'Trial_Bride',\n",
       " 'Tulane_Girl',\n",
       " 'Victorica',\n",
       " 'Brave_Destiny',\n",
       " 'Broad_Dynamite',\n",
       " 'Brush_the_Rail',\n",
       " 'Charm_Hopping',\n",
       " 'Chill_Out_Baby',\n",
       " 'Chocolate_Chip',\n",
       " 'Decoupage',\n",
       " 'Dixie_Says_Goodbye',\n",
       " 'Double_Schott',\n",
       " 'Evil_Empress',\n",
       " 'Evil_Mind',\n",
       " 'Explore_the_Gold',\n",
       " 'Fine_Figure',\n",
       " 'Free_Fantasy',\n",
       " 'French_Appeal',\n",
       " 'Grand_Gala',\n",
       " 'Greinette',\n",
       " 'Highpoint_Princess',\n",
       " 'Hummingbird_Red',\n",
       " 'Isleworth',\n",
       " 'Lady_Kay_Kay',\n",
       " 'Misty_Mission',\n",
       " 'Ms._Reprized',\n",
       " 'O_Kudsai',\n",
       " 'One_Emotion',\n",
       " 'Play_Day',\n",
       " 'Raving',\n",
       " 'Red_Melody',\n",
       " 'Red_Secret',\n",
       " 'River_of_Faith',\n",
       " 'Carino_Deulce',\n",
       " 'Taca_Femme',\n",
       " 'Santa_Elena',\n",
       " 'Shorey_Village',\n",
       " 'Silent_Moccasins',\n",
       " 'Spankstress',\n",
       " 'Spirit_and_Soul',\n",
       " 'Sweet_End',\n",
       " 'Ta_Aruf',\n",
       " 'Mashaarif',\n",
       " 'Taffy_Pull',\n",
       " 'Thiscatsforcaryl',\n",
       " 'Glamorous_One',\n",
       " 'Twice_Lucky',\n",
       " 'Twin_Stroller',\n",
       " 'Valiant_Fighter',\n",
       " 'Vintage_Champagne',\n",
       " 'Wedding_Jitters',\n",
       " 'Whispered_Call',\n",
       " 'Witchful_Saint',\n",
       " 'Bali_Silver',\n",
       " 'Ballet_Babe',\n",
       " \"B._B.'s_Turn\",\n",
       " 'Beastlie_Moon',\n",
       " 'Belsay',\n",
       " 'Bowmanston',\n",
       " 'Brand_Strategy',\n",
       " 'Breaking_Storm',\n",
       " 'Brewmatic',\n",
       " 'Brooks_N_Boots',\n",
       " 'Caper',\n",
       " 'Catchy_Patton',\n",
       " 'Champagneforlisa',\n",
       " 'Chancery_Lane',\n",
       " 'Cherryrob',\n",
       " 'Coyote_Willow',\n",
       " 'Crafty_Devil',\n",
       " 'Culpepper_Island',\n",
       " 'Cult',\n",
       " 'Dame_Georgette',\n",
       " 'Dancin_Olivia',\n",
       " 'Dear_Dorothy',\n",
       " 'Desert_Sunrise',\n",
       " 'Destined',\n",
       " 'Double_Devils_Food',\n",
       " 'Earthquake_Ride',\n",
       " 'Enter',\n",
       " 'Espy',\n",
       " 'Europium',\n",
       " 'Feijoada',\n",
       " 'Fighten_Firgie',\n",
       " 'Fine_Fashion',\n",
       " 'Flower_Garden',\n",
       " 'For_Scarlett',\n",
       " 'Ghazidora',\n",
       " 'Good_Listener',\n",
       " 'Here_to_Win',\n",
       " 'Hey_Hey_Sunny',\n",
       " 'High_Heeled_Hope',\n",
       " 'Hope_For',\n",
       " 'Inherit',\n",
       " 'Intoxicated',\n",
       " 'Jadoni',\n",
       " 'Jathibiyah',\n",
       " 'Jayanti',\n",
       " 'Jewel_of_the_Mile',\n",
       " 'Katebyrne',\n",
       " 'Kwaito',\n",
       " 'Ten_Count',\n",
       " 'Lady_Houston',\n",
       " 'Lady_in_Red',\n",
       " 'La_Flamenco',\n",
       " 'Feather_Stitch',\n",
       " 'La_Joya_Escondida',\n",
       " 'La_Xeneize',\n",
       " 'Lerma',\n",
       " 'Love_Medicine',\n",
       " 'Majestic_Ruckus',\n",
       " 'Millenium_Sky',\n",
       " 'Mishapangua',\n",
       " 'Miss_Flaming',\n",
       " 'Mount_Hillaby',\n",
       " 'Musical_Halo',\n",
       " 'My_Favorite_Rose',\n",
       " 'My_Scarlet_Angel',\n",
       " 'Mystery_Dance',\n",
       " 'Nueva_Turista',\n",
       " 'Omshanti',\n",
       " 'Onatopp',\n",
       " 'Perfect_Halo',\n",
       " 'Phalanopsis',\n",
       " 'White_Wool_Socks',\n",
       " 'Pretty_Does_It',\n",
       " 'Queen_Letizia',\n",
       " 'Stolen_Pleasures',\n",
       " 'Reddy_for_Rubys',\n",
       " 'Zakcat',\n",
       " 'Zelmira',\n",
       " 'Al_Max_Diner',\n",
       " 'A._M._Panicus',\n",
       " 'Angel_of_Bataan',\n",
       " 'Ayala_Strand',\n",
       " 'Brightest_Future',\n",
       " 'Brink',\n",
       " 'Brush_With_Reality',\n",
       " 'Colorama',\n",
       " 'Dancing_With_Deb',\n",
       " 'Dayienu',\n",
       " 'Delta_Danielle',\n",
       " 'Esprit_dEscalier',\n",
       " 'Fast_Heart',\n",
       " 'Firmness',\n",
       " 'Free_Hill',\n",
       " 'Game_Trick',\n",
       " 'Genuine_Angel',\n",
       " 'Golden_Miss',\n",
       " 'Heat_Is_On',\n",
       " 'Heavens_Run',\n",
       " 'High_Speed_Goldie',\n",
       " 'Holiday_Gold',\n",
       " 'Hoping_for_Sun',\n",
       " 'How_bout_No',\n",
       " 'I_Already_Know',\n",
       " 'Just_in_Passing',\n",
       " 'Kettles_Sister',\n",
       " 'Kombat_Lake',\n",
       " 'Lady_Blockbuster',\n",
       " 'La_Pique_Dame',\n",
       " 'Libre',\n",
       " 'Lifting_the_Veil',\n",
       " 'Lolabell',\n",
       " 'Love_Sting',\n",
       " 'Lucy_Black',\n",
       " 'Mary_Cat',\n",
       " 'Mill_Wakis_Best',\n",
       " 'Our_Exploit',\n",
       " 'Peaks_Mill',\n",
       " 'Pisane_Hills',\n",
       " 'Play_It_Back',\n",
       " 'Pop_Pops_Hope',\n",
       " 'Raise_a_Carter',\n",
       " 'Roulette',\n",
       " 'Seasons_Flair',\n",
       " 'Shes_Beautiful',\n",
       " 'Skips_Stiletto',\n",
       " 'Sunday_Morning',\n",
       " 'Theresas_Tizzy',\n",
       " 'TMartooni',\n",
       " 'Tracy',\n",
       " 'Tres_Chaud',\n",
       " 'Trick_Question',\n",
       " 'Tricky_Mistress',\n",
       " 'Trio',\n",
       " 'Veiled_Threat',\n",
       " 'Viva_Vega',\n",
       " 'Whos_Sorry_Now',\n",
       " 'Alaska_Queen',\n",
       " 'Alphabet_Star',\n",
       " 'Amber_Kay',\n",
       " 'Amydarling_Too',\n",
       " 'Artic_Experience',\n",
       " 'As_the_Raven_Flies',\n",
       " 'Baltic_Flier',\n",
       " 'Belong_to_Rita',\n",
       " 'Bettys_Pet',\n",
       " 'Call_Me_Glitter',\n",
       " 'Catch_Me_Deputy',\n",
       " 'Choose_the_Right',\n",
       " 'Club_Queen',\n",
       " 'D._D._Rocks',\n",
       " 'Early_Vintage',\n",
       " 'Erin_of_Wicklow',\n",
       " 'Express_Fashion',\n",
       " 'Feathers',\n",
       " 'Final_Assault',\n",
       " 'Hello_Hebe',\n",
       " 'Indigo_Moon',\n",
       " 'Jetazelle',\n",
       " 'Kaluka',\n",
       " 'Karakorums_Lisa',\n",
       " 'La_Chiquilla',\n",
       " 'Lake_Princess',\n",
       " 'Last_Hand',\n",
       " 'Lucky_Wish',\n",
       " 'Madis_Jul',\n",
       " 'Making_Up',\n",
       " 'Masara_Key',\n",
       " 'Minnys_Niece',\n",
       " 'Mullen_Road',\n",
       " 'No_Apparent_Reason',\n",
       " 'Overocks',\n",
       " 'Padmore',\n",
       " 'Queen_of_the_Rings',\n",
       " 'Queens_College',\n",
       " 'Quiddich',\n",
       " 'Rave',\n",
       " 'Rivas_Reflection',\n",
       " 'Rivery',\n",
       " 'Rosy_Humor',\n",
       " 'Run_Like_Martha',\n",
       " 'Sarahs_World',\n",
       " 'Sea_Dragoness',\n",
       " 'Seeking_the_Ring',\n",
       " 'Somethingtreasured',\n",
       " 'Songfest',\n",
       " 'Squawk',\n",
       " 'Stalwarts_Secret',\n",
       " 'Starbuster',\n",
       " 'Star_Julia',\n",
       " 'Studentoftheweek',\n",
       " 'Thundering_Irish',\n",
       " 'Twenty_One_Chic',\n",
       " 'Wayward_Song',\n",
       " 'Prior_Park',\n",
       " 'Shortstop',\n",
       " 'Lost_in_the_Storm',\n",
       " 'Adamantine',\n",
       " 'Alamotta',\n",
       " 'Anythingispossible',\n",
       " 'Apache_Pines',\n",
       " 'Arabian_Nights',\n",
       " 'A_Rose_for_Shannon',\n",
       " 'Babyexpectations',\n",
       " 'Black_Tie_Diamond',\n",
       " 'Buckarette',\n",
       " 'Cape_North',\n",
       " 'Cherokee_Lady',\n",
       " 'Cinnamon_Buns',\n",
       " 'Clever_Monique',\n",
       " 'Clever_Princess',\n",
       " 'Combermere',\n",
       " 'Concho_Valley',\n",
       " 'Cool_Rhythm',\n",
       " 'Cotton_House_Bay',\n",
       " 'Cowgirl_Affair',\n",
       " 'Crimson_and_Roses',\n",
       " 'Cyber_Rona',\n",
       " 'Czars_Princess',\n",
       " 'Deheres_Dream',\n",
       " 'Delights_Tribute',\n",
       " 'Diva',\n",
       " 'Doyenne',\n",
       " 'Elizas_Kiss',\n",
       " 'Empires_Gold',\n",
       " 'Evelina',\n",
       " 'Fancy_and_Smart',\n",
       " 'Fast_an_Catty',\n",
       " 'Favorite',\n",
       " 'Finale_Hopper',\n",
       " 'Front_Cover',\n",
       " 'Glow_of_the_Tiger',\n",
       " 'Heaven_Knows',\n",
       " 'Heythisis_Sarah',\n",
       " 'Hollies_Entre',\n",
       " 'Holy_Class',\n",
       " 'Hot_Tip',\n",
       " 'Hyper_and_Saucy',\n",
       " 'Impending_Storm',\n",
       " 'Inaspecial_Way',\n",
       " 'Jaguar_Meadow',\n",
       " 'Jolies_Dream',\n",
       " 'Key_West_Appeal',\n",
       " 'Kings_Pact',\n",
       " 'Klassic_Kick',\n",
       " 'Kylies_Dream',\n",
       " 'Ladies_Dance',\n",
       " 'Ladies_Nite_Out',\n",
       " 'Lafayettes_Lady',\n",
       " 'Larks_Impression',\n",
       " 'Margot',\n",
       " 'Meguilty',\n",
       " 'Melo_Sophie',\n",
       " 'Mims',\n",
       " 'Miraculous_Knight',\n",
       " 'Miss_Union_Avenue',\n",
       " 'Mist_Ya',\n",
       " 'Mother',\n",
       " 'Mothra',\n",
       " 'My_Harvest_Gold',\n",
       " 'Nancys_Glitter',\n",
       " 'North_Park_Legend',\n",
       " 'Offshore_News',\n",
       " 'Our_Ryanns_Xpress',\n",
       " 'Pine_Thymeprincess',\n",
       " 'Piping_Hot',\n",
       " 'Poinciana',\n",
       " 'Polka_Dot_Miss',\n",
       " 'Positioning',\n",
       " 'Princess_Cart',\n",
       " 'Proud_Rose',\n",
       " 'Rodeosbeenspotted',\n",
       " 'Roll_V_T_R',\n",
       " 'Saradevin',\n",
       " 'Saratoga_Warning',\n",
       " 'Scattitude',\n",
       " 'Seraphic_Too',\n",
       " 'Shes_Sensational',\n",
       " 'Silver_Shannon',\n",
       " 'Simply_French',\n",
       " 'Sky_Bonnet',\n",
       " 'Social_Business',\n",
       " 'Spoiled_Lady',\n",
       " 'Stage_Door_Honey',\n",
       " 'Strickly_Elo',\n",
       " 'Super_Dreamer',\n",
       " 'Sweet_Jackie_Jo',\n",
       " 'Sydneys_Lexington',\n",
       " 'Tarrahs_Tale',\n",
       " 'Tell_Seattle',\n",
       " 'Tonights_Wager',\n",
       " 'Top_Mambo',\n",
       " 'Touchmeifyoucan',\n",
       " 'Tri_Argo',\n",
       " 'Wandering_Pine',\n",
       " 'Weight_No_More',\n",
       " 'Why_So_Much',\n",
       " 'Wild_Cure',\n",
       " 'Winlocs_Lesliejake',\n",
       " 'Winlocs_Sunshine',\n",
       " 'Formal_Desire',\n",
       " 'Funky_Fraulein',\n",
       " 'Garopaba',\n",
       " 'Glittering_Tax',\n",
       " 'Gracious_Assault',\n",
       " 'Heavenly_Ghost',\n",
       " 'Heliotrope',\n",
       " 'Hopes_and_Fears',\n",
       " 'In_Awe',\n",
       " 'Ionian_Bride',\n",
       " 'Jamestown_Lady',\n",
       " 'Joyful_Wager',\n",
       " 'Kalookan_Lessie',\n",
       " 'Kiss_Kiss',\n",
       " 'Lady_Buckpasser',\n",
       " 'Lady_Inverness',\n",
       " 'Lismore_Lady',\n",
       " 'Loves_to_Fly',\n",
       " 'Lovin_Ladie',\n",
       " 'Marchonin',\n",
       " 'Mine_Legend',\n",
       " 'Missy_McKee',\n",
       " 'Misty_Springs',\n",
       " 'Morning_Kiss',\n",
       " 'New_Meaning',\n",
       " 'New_York_Jessica',\n",
       " 'Nokia',\n",
       " 'Ohdayshus',\n",
       " 'Out_of_Money',\n",
       " 'Page_Turner',\n",
       " 'Party_Date',\n",
       " 'Princess_Deelite',\n",
       " 'Princess_Quinn',\n",
       " 'Pyrite_Rain',\n",
       " 'Queen_of_Humor',\n",
       " 'Radiant_Ring',\n",
       " 'Recapitalize',\n",
       " 'Rosiesuptown',\n",
       " 'Seacrystal',\n",
       " 'Sewickley_Heights',\n",
       " 'Sher_Win_Forest',\n",
       " 'Shocking_Pink',\n",
       " 'Showtime_Special',\n",
       " 'Sienna_Lady',\n",
       " 'Song_for_Annie',\n",
       " 'Star_de_Mint',\n",
       " 'Sweettay',\n",
       " 'Swingtime_Music',\n",
       " 'Turbulent_Times',\n",
       " 'Walk_On_Gold',\n",
       " 'Western_Melody',\n",
       " 'Youbetshecan',\n",
       " 'Advance_Notice',\n",
       " 'Alydash',\n",
       " 'Amada',\n",
       " 'American_Flier',\n",
       " 'Antoinetta',\n",
       " 'Arcadiana',\n",
       " 'Bay_Barrister',\n",
       " 'Bering_Bubbles',\n",
       " 'Breathtakingly',\n",
       " 'Bridal_Song',\n",
       " 'Bridget_of_Eire',\n",
       " 'Bridge_to_Gold',\n",
       " 'Camp_Surprise',\n",
       " 'Cashel',\n",
       " 'Cut_Class_Leanne',\n",
       " 'Dear_Guinevere',\n",
       " 'Desert_Dream',\n",
       " 'Diva_Dyna',\n",
       " 'Eleganter',\n",
       " 'El_Mirage_Queen',\n",
       " 'Espresso_Song',\n",
       " 'Ex_Libris',\n",
       " 'Foil',\n",
       " 'General_Reunion',\n",
       " 'Goodness_Unbridled',\n",
       " 'Hope_for_Love',\n",
       " 'Icy_Minister',\n",
       " 'Lady_of_Sun',\n",
       " 'Logan_Avenue_Linda',\n",
       " 'Lyric_Poem',\n",
       " 'More_to_Prove',\n",
       " 'Opaque',\n",
       " 'Queenaria',\n",
       " 'Rose_Frances',\n",
       " 'Runaway_Cat',\n",
       " 'Sancoin',\n",
       " 'Seemein_Seattle',\n",
       " 'Shadowy_Waters',\n",
       " 'She_Might_Call',\n",
       " 'Sheza_Pretty_Gal',\n",
       " 'Smart_and_Fancy',\n",
       " 'Storming_Starlet',\n",
       " 'Sultry_Allure',\n",
       " 'Summer_Wildfire',\n",
       " 'Tekawitha',\n",
       " 'Trail_of_Tears',\n",
       " 'Urmia',\n",
       " 'Vanishing_Wolf',\n",
       " 'Zurita',\n",
       " 'Almost_Paradise',\n",
       " 'Ama_de_Casa',\n",
       " 'Archivist',\n",
       " 'Baby_Blaze',\n",
       " 'Candescent',\n",
       " 'Chantess',\n",
       " 'Constant_Sparkle',\n",
       " 'Cotton_Bay',\n",
       " 'Darby_Rose',\n",
       " 'Dare_I_Dream',\n",
       " 'Delil',\n",
       " 'Diameter',\n",
       " 'Archeress',\n",
       " 'Border_Dispute',\n",
       " 'Lovely_Cool',\n",
       " 'Pocketbook_Passion',\n",
       " 'Fergie',\n",
       " 'Final_Approval',\n",
       " 'Focus_Curiosity',\n",
       " 'Gilded_Minstrel',\n",
       " 'Goodbye_Beautiful',\n",
       " 'Hickory_Belle',\n",
       " 'Humorous_Type',\n",
       " 'I_Love_Jazz',\n",
       " 'Itsgetineardawn',\n",
       " 'Java_Ridge',\n",
       " 'Jurisprudence',\n",
       " 'Kiwi_Princess',\n",
       " 'Lake_Leman',\n",
       " 'Lakeline',\n",
       " 'Lubicon',\n",
       " 'Lucky_Minister',\n",
       " 'Mary_McGlinchy',\n",
       " 'Miss_Daisy',\n",
       " 'Moneybru',\n",
       " 'Mons_Meg',\n",
       " 'Montana_Jordana',\n",
       " 'Moondust_Mist',\n",
       " 'Motel_Lady',\n",
       " 'Mountain_Kitten',\n",
       " 'National_Finalist',\n",
       " 'Nicely_Equipped',\n",
       " 'One_to_Five',\n",
       " 'Our_Donna',\n",
       " 'Peaks_Diamond',\n",
       " 'Perilous',\n",
       " 'Pleasant_Deed',\n",
       " 'Poco_Uno',\n",
       " 'Popularafterschool',\n",
       " 'Prom_Gift',\n",
       " 'Proper_Applause',\n",
       " 'Raging_Desire',\n",
       " 'Regal_Boot',\n",
       " 'Right_Time_N_Place',\n",
       " 'Samantha_O',\n",
       " 'Silkworth',\n",
       " 'Siphonophora',\n",
       " 'Sister_Belle',\n",
       " 'Speak_Easy',\n",
       " 'Sprig_of_Broom',\n",
       " 'Spring_Hill_Answer',\n",
       " 'Starconi',\n",
       " 'Star_Forty_Nine',\n",
       " 'Successful_Katie',\n",
       " 'Sugah',\n",
       " 'Sugar_Run',\n",
       " 'Sungold_Sally',\n",
       " 'Sunny_Mimosa',\n",
       " 'Sweet_Vale',\n",
       " 'Tea_Pot_Joy',\n",
       " 'Tuff_as_Snuff',\n",
       " 'Twin_Bet',\n",
       " 'Wabash_Sue',\n",
       " 'Wancha',\n",
       " 'West_Texas_Girl',\n",
       " 'Will_I_Do',\n",
       " 'With_Impunity',\n",
       " 'W_W_Old_School',\n",
       " 'Yingyingying',\n",
       " 'Accessory',\n",
       " 'Admiral_Minnie',\n",
       " 'Alyette',\n",
       " 'Amber_Token',\n",
       " 'Appella',\n",
       " 'Artiste',\n",
       " 'Believeittobeaver',\n",
       " 'Callie_Alexandra',\n",
       " 'Cant_Stop_the_Fire',\n",
       " 'Captivant',\n",
       " 'Cats_Legend',\n",
       " 'Charms_Way',\n",
       " 'Christmas_Lights',\n",
       " 'Classys_Legacy',\n",
       " 'Colebrook_Fighter',\n",
       " 'Cookin_Cutie',\n",
       " 'Cottoned_On',\n",
       " 'Couldabeenabenz',\n",
       " 'Devana',\n",
       " 'Digital_Delight',\n",
       " 'Ducktrap_Harbor',\n",
       " 'Escaping',\n",
       " 'Excellent_Review',\n",
       " 'Little_Sister',\n",
       " 'Long_Haul',\n",
       " 'Lovely_Sage',\n",
       " 'Lover',\n",
       " 'Maggie_Viola',\n",
       " 'Manila_Merci',\n",
       " 'Maytide',\n",
       " 'Money_Madam',\n",
       " 'My_Fancy',\n",
       " 'Nystate_of_Grind',\n",
       " 'Passionate_Terri',\n",
       " 'Payable_On_Demand',\n",
       " 'Pink_Forest',\n",
       " 'Power_and_Grace',\n",
       " 'Royal_Halo',\n",
       " 'Runaway_Spy',\n",
       " 'Samantha_D',\n",
       " 'Scapegoat',\n",
       " 'Shappy',\n",
       " 'Southern_Cookin',\n",
       " 'Storm_Miss',\n",
       " 'Sugar_Dame',\n",
       " 'Tide_Cat',\n",
       " 'Twirlaway',\n",
       " 'Unbridled_Salt',\n",
       " 'Walkinforkisses',\n",
       " 'Whistle_Call',\n",
       " 'Whow',\n",
       " 'Aerocat',\n",
       " 'Arctic_Moon',\n",
       " 'Bebopper',\n",
       " 'Catoutofhail',\n",
       " 'Chado',\n",
       " 'Cherie_Baby',\n",
       " 'Cinnamon_Kisses',\n",
       " 'Cloud_of_Smoke',\n",
       " 'Code_Name_Cassie',\n",
       " 'Colonial_Cat',\n",
       " 'Congratulating',\n",
       " 'Cowtown_Kitty',\n",
       " 'Dance_Darling',\n",
       " 'Dancing_Monarch',\n",
       " 'East_of_Omaha',\n",
       " 'Elle_a_Lishous',\n",
       " 'Elusive_Flower',\n",
       " 'Flag_Support',\n",
       " 'Funny_Bay',\n",
       " 'Global',\n",
       " 'Hap_E_to_Run',\n",
       " 'Imtheblues',\n",
       " 'Jet_Set_Jazz',\n",
       " 'Lac_de_Gras',\n",
       " 'Lady_Dynasty',\n",
       " 'Lasqueti_Island',\n",
       " 'Look_Up_and_Smile',\n",
       " 'Mammal_of_Action',\n",
       " 'Matilda_Dancer',\n",
       " 'Merry_Mary',\n",
       " 'Miss_Suilleabhain',\n",
       " 'Omi',\n",
       " 'Raging_Rosie',\n",
       " 'Ready_Cash',\n",
       " 'Romantic_Story',\n",
       " 'Romantic_Surprise',\n",
       " 'Royal_Embassy',\n",
       " 'Satin_Sami',\n",
       " 'Seewillo',\n",
       " 'Shear_Attitude',\n",
       " 'Shezafire',\n",
       " 'Slammingpartygirl',\n",
       " 'Star_in_My_Crown',\n",
       " 'Star_One_One',\n",
       " 'Starring_Monique',\n",
       " 'Storm_Prospect',\n",
       " 'Tales_of_Long_Ago',\n",
       " 'Tequila_and_Run',\n",
       " 'Theladysaidno',\n",
       " 'Top_of_the_Class',\n",
       " 'Victory_Way',\n",
       " 'Word_of_Mouth',\n",
       " 'A_Bit_Lit',\n",
       " 'B._A._Luring',\n",
       " 'B._A._Valentine',\n",
       " 'Blazing_Fizz',\n",
       " 'Blue_Flash',\n",
       " 'Blue_Grass_Dancer',\n",
       " 'Boldly_Extravagant',\n",
       " 'Brassy_Shirley',\n",
       " 'Brown_Eyes',\n",
       " 'Charm_Spell',\n",
       " 'Chippi',\n",
       " 'Connecting_Flight',\n",
       " 'Dance_Tempo',\n",
       " 'Danube',\n",
       " 'Disperse_a_Star',\n",
       " 'Double_Bridled',\n",
       " 'Elle_Meme',\n",
       " 'English_Lady',\n",
       " 'Gion',\n",
       " 'Gold_Muni',\n",
       " 'Gray_Trick',\n",
       " 'Hines_Farley_Rules',\n",
       " 'Jazzy_Discovery',\n",
       " 'Kazen',\n",
       " 'Lady_Blue_Eyes',\n",
       " 'L._L._S._Cat',\n",
       " 'Mimi_Rose',\n",
       " 'Miso_Pretty',\n",
       " 'Miss_Veronica',\n",
       " 'Mont_Charlene',\n",
       " 'Motion_Denied',\n",
       " 'One_for_Smoke',\n",
       " 'Perfect_Wave',\n",
       " 'Popozinha',\n",
       " 'Sauveteur',\n",
       " 'Siren',\n",
       " 'Still_Torrid',\n",
       " 'Surf_City_Susie',\n",
       " 'Sweet_Screamer',\n",
       " 'Wancha_Back',\n",
       " 'Awesome_Alexandra',\n",
       " 'Bafferta',\n",
       " 'Blackeyed_Pea',\n",
       " 'Bon_Caro',\n",
       " 'Brickyard_Gal',\n",
       " 'Comeon_Dixie',\n",
       " 'Dance_Special',\n",
       " 'E_Major',\n",
       " 'Emily_Ha_Ha',\n",
       " 'Esher',\n",
       " 'Fire_Line',\n",
       " 'Hay_Allison',\n",
       " 'Honolulu_Heat',\n",
       " 'Mambo_With_G',\n",
       " 'Structured',\n",
       " 'Perfect_Catch',\n",
       " 'Private_Light',\n",
       " 'Quiet_Bear',\n",
       " 'Reposessed',\n",
       " 'Rocket_Elaine',\n",
       " 'Ruby_Be_Mine',\n",
       " 'Salvadoria',\n",
       " 'Seasonal',\n",
       " 'Seattle_Sailor',\n",
       " 'Seductive_Look',\n",
       " 'Selling_Sunshine',\n",
       " 'Sexy_Seattle',\n",
       " 'Solar_Song',\n",
       " 'Suite_Ten',\n",
       " 'Sweetheart',\n",
       " 'Sweet_Ober_Melissa',\n",
       " 'Texas_Cinema',\n",
       " 'Touche_de_Velours',\n",
       " 'Urloveisasymphony',\n",
       " 'Wanton',\n",
       " 'Whisper_of_Silk',\n",
       " 'White_Ruffle',\n",
       " 'Ashwood_C_C',\n",
       " 'Beat_the_Street',\n",
       " 'Belle_Breesing',\n",
       " 'Born_to_Jazz',\n",
       " 'Bridge_and_Tunnel',\n",
       " 'Burn_Brightly',\n",
       " 'Buy_the_Dips',\n",
       " 'Capote_Blues',\n",
       " 'Classic_Feather',\n",
       " 'Cul_de_Sac',\n",
       " 'Dau_Dau_de_Dau',\n",
       " 'Entendu',\n",
       " 'Ever_Optimistic',\n",
       " 'Exploding_Star',\n",
       " 'Fees_Waived',\n",
       " 'Her_Highness',\n",
       " 'Inpending_Danger',\n",
       " 'I_Want_You',\n",
       " 'Jule_Royale',\n",
       " 'Lady_Cruella',\n",
       " 'Lady_Livingston',\n",
       " 'Lake_Victoria',\n",
       " 'Madame_Secret',\n",
       " 'Maria_Elena',\n",
       " 'Metro_Girl',\n",
       " 'Miss_Shoplifter',\n",
       " 'Ms._Jiles',\n",
       " 'Nurse_Disco',\n",
       " 'Oatka_Idas_Destiny',\n",
       " 'Out_of_Goodbyes',\n",
       " 'Perfectcombination',\n",
       " 'Pimpinella',\n",
       " 'Plenty_of_Stars',\n",
       " 'Portera',\n",
       " 'Proud_Woman',\n",
       " 'Quiet_Honor',\n",
       " 'Rare_Elegance',\n",
       " 'Red_Hot_Jul',\n",
       " 'Saint_Barbara',\n",
       " 'Sensuous_Cinnamon',\n",
       " 'Song_of_the_Moment',\n",
       " 'Songthrush',\n",
       " 'Supreme_Angel',\n",
       " 'Tatou',\n",
       " 'Therese',\n",
       " 'Think_Fast',\n",
       " 'Truly_Romantic',\n",
       " 'Trust_Me_Honey',\n",
       " 'Unbridled_Valor',\n",
       " 'Uppa_Hughie',\n",
       " 'Vicky',\n",
       " 'Westend_Tapper',\n",
       " 'Wild_Goose_Chase',\n",
       " 'Worthy_of_Silver',\n",
       " 'Zula',\n",
       " 'Amazing_Trace',\n",
       " 'Amber_Comet',\n",
       " 'Bellebottom_Blues',\n",
       " 'Belle_Excel',\n",
       " 'Champagne_On_Tap',\n",
       " 'Clandestina',\n",
       " 'Critical_Chant',\n",
       " 'Croupier',\n",
       " 'Debutante_Dreamer',\n",
       " 'Dynadoll',\n",
       " 'Dynamous',\n",
       " 'Dynashore',\n",
       " 'Golden_Trumpet',\n",
       " 'Great_Lady_K',\n",
       " 'Im_a_Classy_Cat',\n",
       " 'Imperial_Blue',\n",
       " 'Isle_of_Tunes',\n",
       " 'Just_Touching',\n",
       " 'Keep_the_Profit',\n",
       " 'Kickapoo_Princess',\n",
       " 'Lady_Secretary',\n",
       " ...]"
      ]
     },
     "execution_count": 77,
     "metadata": {},
     "output_type": "execute_result"
    }
   ],
   "source": [
    "for i in range(0,len(cleaned)):\n",
    "    cleaned[i] = cleaned[i].replace(' ', '_')\n",
    "cleaned"
   ]
  },
  {
   "cell_type": "code",
   "execution_count": 109,
   "metadata": {},
   "outputs": [],
   "source": [
    "#damsire2 = [x for x in damsire if x not in sires]"
   ]
  },
  {
   "cell_type": "code",
   "execution_count": 62,
   "metadata": {},
   "outputs": [
    {
     "name": "stderr",
     "output_type": "stream",
     "text": [
      "<ipython-input-62-c20f928aede8>:8: DeprecationWarning: use options instead of chrome_options\n",
      "  driver = webdriver.Chrome(chrome_options=chrome_options)\n"
     ]
    },
    {
     "data": {
      "text/plain": [
       "<selenium.webdriver.chrome.options.Options at 0x24e2f435820>"
      ]
     },
     "execution_count": 62,
     "metadata": {},
     "output_type": "execute_result"
    }
   ],
   "source": [
    "# path_to_extension = r'C:\\Users\\Jeanne\\Documents\\personal\\Auction Results\\3.10.2_0'\n",
    "\n",
    "# chrome_options = Options()\n",
    "# chrome_options.add_argument('load-extension=' + path_to_extension)\n",
    "\n",
    "# driver = webdriver.Chrome(chrome_options=chrome_options)\n",
    "# driver.create_options()"
   ]
  },
  {
   "cell_type": "code",
   "execution_count": 6,
   "metadata": {},
   "outputs": [],
   "source": [
    "headers = ['Date', 'Horse', 'Fin', 'Tr', 'Dist.', 'Sf.', 'Race', 'Cnd', '1st', '2nd', '3rd', 'Time']"
   ]
  },
  {
   "cell_type": "code",
   "execution_count": 108,
   "metadata": {},
   "outputs": [
    {
     "name": "stderr",
     "output_type": "stream",
     "text": [
      "<ipython-input-108-45da2c253c6f>:8: DeprecationWarning: use options instead of chrome_options\n",
      "  driver = webdriver.Chrome(chrome_options=chrome_options)\n"
     ]
    },
    {
     "data": {
      "text/html": [
       "<div>\n",
       "<style scoped>\n",
       "    .dataframe tbody tr th:only-of-type {\n",
       "        vertical-align: middle;\n",
       "    }\n",
       "\n",
       "    .dataframe tbody tr th {\n",
       "        vertical-align: top;\n",
       "    }\n",
       "\n",
       "    .dataframe thead th {\n",
       "        text-align: right;\n",
       "    }\n",
       "</style>\n",
       "<table border=\"1\" class=\"dataframe\">\n",
       "  <thead>\n",
       "    <tr style=\"text-align: right;\">\n",
       "      <th></th>\n",
       "      <th>Date</th>\n",
       "      <th>Horse</th>\n",
       "      <th>Fin</th>\n",
       "      <th>Tr</th>\n",
       "      <th>Dist.</th>\n",
       "      <th>Sf.</th>\n",
       "      <th>Race</th>\n",
       "      <th>Cnd</th>\n",
       "      <th>1st</th>\n",
       "      <th>2nd</th>\n",
       "      <th>3rd</th>\n",
       "      <th>Time</th>\n",
       "    </tr>\n",
       "  </thead>\n",
       "  <tbody>\n",
       "    <tr>\n",
       "      <th>15398</th>\n",
       "      <td>NaN</td>\n",
       "      <td>Note to Mimi</td>\n",
       "      <td>NaN</td>\n",
       "      <td>NaN</td>\n",
       "      <td>NaN</td>\n",
       "      <td>NaN</td>\n",
       "      <td>NaN</td>\n",
       "      <td>NaN</td>\n",
       "      <td>NaN</td>\n",
       "      <td>NaN</td>\n",
       "      <td>NaN</td>\n",
       "      <td>NaN</td>\n",
       "    </tr>\n",
       "  </tbody>\n",
       "</table>\n",
       "</div>"
      ],
      "text/plain": [
       "      Date         Horse  Fin   Tr Dist.  Sf. Race  Cnd  1st  2nd  3rd Time\n",
       "15398  NaN  Note to Mimi  NaN  NaN   NaN  NaN  NaN  NaN  NaN  NaN  NaN  NaN"
      ]
     },
     "execution_count": 108,
     "metadata": {},
     "output_type": "execute_result"
    }
   ],
   "source": [
    "# from selenium.webdriver.chrome.options import Options\n",
    "\n",
    "# path_to_extension = r'C:\\Users\\Jeanne\\Documents\\personal\\Auction Results\\3.10.2_0'\n",
    "\n",
    "# chrome_options = Options()\n",
    "# chrome_options.add_argument('load-extension=' + path_to_extension)\n",
    "\n",
    "# driver = webdriver.Chrome(chrome_options=chrome_options)\n",
    "# driver.create_options()\n",
    "\n",
    "# hname = 'Note_to_Mimi'\n",
    "# #driver = webdriver.Chrome('/Users/Jeanne/Downloads/chromedriver')\n",
    "\n",
    "# url = 'https://www.horseracingnation.com/horse/' + hname\n",
    "# driver.get(url)\n",
    "\n",
    "# z = driver.find_elements_by_xpath('//td[@id=\"1-1\"]')\n",
    "# z2 = driver.find_elements_by_xpath('//td[@class=\"dxgvDataRow \"]')\n",
    "# if (len(z) == 1 and len(z2) > 0):\n",
    "#     # locate tr\n",
    "#     tablerow = driver.find_elements_by_xpath('//tr[@class=\"dxgvDataRow \"]')\n",
    "#     for row in tablerow:\n",
    "#     # tdata = [td.text for td in row.find_elements_by_class_name('dxgv')]\n",
    "#         tdata = [td.text for td in row.find_elements_by_xpath('//td[@class=\"dxgv\"]')]\n",
    "\n",
    "#     x = int(len(tdata) / 12)\n",
    "#     temp = pd.DataFrame(np.array(tdata).reshape(x,12), columns = headers)\n",
    "#     df = df.append(temp) # appends to master dataframe\n",
    "        \n",
    "# else:\n",
    "#     r = list()\n",
    "#     r.append(np.nan)\n",
    "#     r.append(hname.replace('_',' '))\n",
    "#     for a in range(10):\n",
    "#         r.append(np.nan)\n",
    "#     to_append = r\n",
    "#     df_length = len(df)\n",
    "#     df.loc[df_length] = to_append\n",
    "        \n",
    "# #    recall = df    \n",
    "    \n",
    "# driver.close()\n",
    "\n",
    "# df[df['Horse'] == 'Note to Mimi']"
   ]
  },
  {
   "cell_type": "code",
   "execution_count": 100,
   "metadata": {},
   "outputs": [
    {
     "data": {
      "text/plain": [
       "[nan, 'Pretty Indian', nan, nan, nan, nan, nan, nan, nan, nan, nan, nan]"
      ]
     },
     "execution_count": 100,
     "metadata": {},
     "output_type": "execute_result"
    }
   ],
   "source": [
    "r = list()\n",
    "r.append(np.nan)\n",
    "r.append(hname.replace('_',' '))\n",
    "for a in range(10):\n",
    "    r.append(np.nan)\n",
    "r"
   ]
  },
  {
   "cell_type": "code",
   "execution_count": 117,
   "metadata": {},
   "outputs": [
    {
     "data": {
      "text/plain": [
       "(29990, 12)"
      ]
     },
     "execution_count": 117,
     "metadata": {},
     "output_type": "execute_result"
    }
   ],
   "source": [
    "headers = ['Date', 'Horse', 'Fin', 'Tr', 'Dist.', 'Sf.', 'Race', 'Cnd', '1st', '2nd', '3rd', 'Time']\n",
    "df = df.drop(columns=[col for col in df if col not in headers])\n",
    "df.shape"
   ]
  },
  {
   "cell_type": "code",
   "execution_count": 122,
   "metadata": {},
   "outputs": [
    {
     "name": "stderr",
     "output_type": "stream",
     "text": [
      "<ipython-input-122-ef5be9c98e27>:10: DeprecationWarning: use options instead of chrome_options\n",
      "  driver = webdriver.Chrome(chrome_options=chrome_options)\n"
     ]
    },
    {
     "data": {
      "text/plain": [
       "(30031, 12)"
      ]
     },
     "execution_count": 122,
     "metadata": {},
     "output_type": "execute_result"
    }
   ],
   "source": [
    "#df = pd.DataFrame(columns=headers) # creates master dataframe \n",
    "\n",
    "from selenium.webdriver.chrome.options import Options\n",
    "\n",
    "path_to_extension = r'C:\\Users\\Jeanne\\Documents\\personal\\Auction Results\\3.10.2_0'\n",
    "\n",
    "chrome_options = Options()\n",
    "chrome_options.add_argument('load-extension=' + path_to_extension)\n",
    "\n",
    "driver = webdriver.Chrome(chrome_options=chrome_options)\n",
    "driver.create_options()\n",
    "\n",
    "#driver = webdriver.Chrome('/Users/Jeanne/Downloads/chromedriver')\n",
    "\n",
    "tempdelete = list()\n",
    "tempdelete.append('A_Jealous_Woman')\n",
    "for i in tempdelete:\n",
    "#for i in cleaned:\n",
    "    hname = i\n",
    "    url = 'https://www.horseracingnation.com/horse/' + hname\n",
    "    driver.get(url)\n",
    "\n",
    "    # locate tr\n",
    "    tablerow = driver.find_elements_by_xpath('//tr[@class=\"dxgvDataRow \"]')\n",
    "    for row in tablerow:\n",
    "        # tdata = [td.text for td in row.find_elements_by_class_name('dxgv')]\n",
    "        tdata = [td.text for td in row.find_elements_by_xpath('//td[@class=\"dxgv\"]')]\n",
    "\n",
    "    x = int(len(tdata) / 12)\n",
    "    temp = pd.DataFrame(np.array(tdata).reshape(x,12), columns = headers)\n",
    "    df = df.append(temp) # appends to master dataframe\n",
    "    \n",
    "driver.close()\n",
    "    \n",
    "df.to_csv(r'C:\\Users\\Jeanne\\Documents\\personal\\Auction Results\\hrn.csv')\n",
    "df.shape\n"
   ]
  },
  {
   "cell_type": "code",
   "execution_count": 118,
   "metadata": {},
   "outputs": [
    {
     "name": "stderr",
     "output_type": "stream",
     "text": [
      "<ipython-input-118-0b331b39780f>:10: DeprecationWarning: use options instead of chrome_options\n",
      "  driver = webdriver.Chrome(chrome_options=chrome_options)\n"
     ]
    }
   ],
   "source": [
    "#df = pd.DataFrame(columns=headers) # creates master dataframe \n",
    "\n",
    "from selenium.webdriver.chrome.options import Options\n",
    "\n",
    "path_to_extension = r'C:\\Users\\Jeanne\\Documents\\personal\\Auction Results\\3.10.2_0'\n",
    "\n",
    "chrome_options = Options()\n",
    "chrome_options.add_argument('load-extension=' + path_to_extension)\n",
    "\n",
    "driver = webdriver.Chrome(chrome_options=chrome_options)\n",
    "driver.create_options()\n",
    "\n",
    "#driver = webdriver.Chrome('/Users/Jeanne/Downloads/chromedriver')\n",
    "\n",
    "tempdelete = list()\n",
    "tempdelete.append('By_My_Standards')\n",
    "for i in tempdelete:\n",
    "#for i in cleaned:\n",
    "    hname = i\n",
    "    url = 'https://www.horseracingnation.com/horse/' + hname\n",
    "    driver.get(url)\n",
    "\n",
    "    z = driver.find_elements_by_xpath('//td[@id=\"1-1\"]')\n",
    "    z2 = driver.find_elements_by_xpath('//td[@class=\"dxgvDataRow \"]')\n",
    "    if (len(z) == 1 and len(z2) > 0):\n",
    "        # locate tr\n",
    "        tablerow = driver.find_elements_by_xpath('//tr[@class=\"dxgvDataRow \"]')\n",
    "        for row in tablerow:\n",
    "        # tdata = [td.text for td in row.find_elements_by_class_name('dxgv')]\n",
    "          tdata = [td.text for td in row.find_elements_by_xpath('//td[@class=\"dxgv\"]')]\n",
    "\n",
    "        if len(tdata) == 125 | len(tdata) < 12:\n",
    "            r = list()\n",
    "            r.append(np.nan)\n",
    "            r.append(hname.replace('_',' '))\n",
    "            for a in range(10):\n",
    "                r.append(np.nan)\n",
    "            to_append = r\n",
    "            df_length = len(df)\n",
    "            df.loc[df_length] = to_append\n",
    "            \n",
    "        else:\n",
    "            x = int(len(tdata) / 12)\n",
    "            temp = pd.DataFrame(np.array(tdata).reshape(x,12), columns = headers)\n",
    "            df = df.append(temp) # appends to master dataframe\n",
    "        \n",
    "    else:\n",
    "        r = list()\n",
    "        r.append(np.nan)\n",
    "        r.append(hname.replace('_',' '))\n",
    "        for a in range(10):\n",
    "            r.append(np.nan)\n",
    "        to_append = r\n",
    "        df_length = len(df)\n",
    "        df.loc[df_length] = to_append\n",
    "        \n",
    "    recall = df    \n",
    "    \n",
    "driver.close()\n",
    "    \n",
    "df.to_csv(r'C:\\Users\\Jeanne\\Documents\\personal\\Auction Results\\hrn.csv')\n"
   ]
  },
  {
   "cell_type": "code",
   "execution_count": 67,
   "metadata": {},
   "outputs": [
    {
     "data": {
      "text/plain": [
       "125"
      ]
     },
     "execution_count": 67,
     "metadata": {},
     "output_type": "execute_result"
    }
   ],
   "source": [
    "len(tdata)"
   ]
  },
  {
   "cell_type": "code",
   "execution_count": 119,
   "metadata": {},
   "outputs": [
    {
     "data": {
      "text/plain": [
       "(29991, 12)"
      ]
     },
     "execution_count": 119,
     "metadata": {},
     "output_type": "execute_result"
    }
   ],
   "source": [
    "df.shape"
   ]
  },
  {
   "cell_type": "code",
   "execution_count": 23,
   "metadata": {},
   "outputs": [
    {
     "data": {
      "text/plain": [
       "2007"
      ]
     },
     "execution_count": 23,
     "metadata": {},
     "output_type": "execute_result"
    }
   ],
   "source": [
    "len(df['Horse'].unique())"
   ]
  },
  {
   "cell_type": "code",
   "execution_count": 110,
   "metadata": {},
   "outputs": [
    {
     "data": {
      "text/plain": [
       "(29990, 12)"
      ]
     },
     "execution_count": 110,
     "metadata": {},
     "output_type": "execute_result"
    }
   ],
   "source": [
    "df.shape"
   ]
  },
  {
   "cell_type": "code",
   "execution_count": 111,
   "metadata": {},
   "outputs": [
    {
     "data": {
      "text/plain": [
       "17079"
      ]
     },
     "execution_count": 111,
     "metadata": {},
     "output_type": "execute_result"
    }
   ],
   "source": [
    "len(df['Horse'].unique())"
   ]
  },
  {
   "cell_type": "code",
   "execution_count": 32,
   "metadata": {},
   "outputs": [],
   "source": [
    "temp = df.drop_duplicates(keep='first')"
   ]
  },
  {
   "cell_type": "code",
   "execution_count": 33,
   "metadata": {},
   "outputs": [
    {
     "data": {
      "text/plain": [
       "(11473, 12)"
      ]
     },
     "execution_count": 33,
     "metadata": {},
     "output_type": "execute_result"
    }
   ],
   "source": [
    "temp.shape"
   ]
  },
  {
   "cell_type": "code",
   "execution_count": 34,
   "metadata": {},
   "outputs": [
    {
     "data": {
      "text/plain": [
       "2007"
      ]
     },
     "execution_count": 34,
     "metadata": {},
     "output_type": "execute_result"
    }
   ],
   "source": [
    "len(temp['Horse'].unique())"
   ]
  },
  {
   "cell_type": "code",
   "execution_count": 52,
   "metadata": {},
   "outputs": [],
   "source": [
    "df.to_csv(r'C:\\Users\\Jeanne\\Documents\\personal\\Auction Results\\hrn.csv')"
   ]
  },
  {
   "cell_type": "code",
   "execution_count": 44,
   "metadata": {},
   "outputs": [
    {
     "data": {
      "text/plain": [
       "12"
      ]
     },
     "execution_count": 44,
     "metadata": {},
     "output_type": "execute_result"
    }
   ],
   "source": [
    "len(df.columns)"
   ]
  },
  {
   "cell_type": "code",
   "execution_count": 48,
   "metadata": {},
   "outputs": [
    {
     "data": {
      "text/plain": [
       "(27446, 12)"
      ]
     },
     "execution_count": 48,
     "metadata": {},
     "output_type": "execute_result"
    }
   ],
   "source": [
    "df.shape"
   ]
  },
  {
   "cell_type": "code",
   "execution_count": 49,
   "metadata": {},
   "outputs": [
    {
     "data": {
      "text/plain": [
       "4008"
      ]
     },
     "execution_count": 49,
     "metadata": {},
     "output_type": "execute_result"
    }
   ],
   "source": [
    "len(df['Horse'].unique())"
   ]
  },
  {
   "cell_type": "code",
   "execution_count": 65,
   "metadata": {},
   "outputs": [
    {
     "data": {
      "text/plain": [
       "2007"
      ]
     },
     "execution_count": 65,
     "metadata": {},
     "output_type": "execute_result"
    }
   ],
   "source": [
    "len(df['Horse'].unique())"
   ]
  },
  {
   "cell_type": "code",
   "execution_count": 58,
   "metadata": {},
   "outputs": [
    {
     "data": {
      "text/plain": [
       "(2, 12)"
      ]
     },
     "execution_count": 58,
     "metadata": {},
     "output_type": "execute_result"
    }
   ],
   "source": [
    "temp.shape"
   ]
  },
  {
   "cell_type": "code",
   "execution_count": 70,
   "metadata": {},
   "outputs": [
    {
     "data": {
      "text/plain": [
       "(15365, 12)"
      ]
     },
     "execution_count": 70,
     "metadata": {},
     "output_type": "execute_result"
    }
   ],
   "source": [
    "df.shape"
   ]
  },
  {
   "cell_type": "code",
   "execution_count": 71,
   "metadata": {},
   "outputs": [
    {
     "data": {
      "text/plain": [
       "2489"
      ]
     },
     "execution_count": 71,
     "metadata": {},
     "output_type": "execute_result"
    }
   ],
   "source": [
    "len(df['Horse'].unique())"
   ]
  },
  {
   "cell_type": "code",
   "execution_count": 72,
   "metadata": {},
   "outputs": [
    {
     "data": {
      "text/plain": [
       "(15365, 12)"
      ]
     },
     "execution_count": 72,
     "metadata": {},
     "output_type": "execute_result"
    }
   ],
   "source": [
    "recall.shape"
   ]
  },
  {
   "cell_type": "code",
   "execution_count": 73,
   "metadata": {},
   "outputs": [],
   "source": [
    "df.to_csv(r'C:\\Users\\Jeanne\\Documents\\personal\\Auction Results\\hrn.csv')"
   ]
  },
  {
   "cell_type": "code",
   "execution_count": 112,
   "metadata": {},
   "outputs": [],
   "source": [
    "test = pd.read_csv(\"/Users/Jeanne/Documents/personal/Auction Results/hrn.csv\")"
   ]
  },
  {
   "cell_type": "code",
   "execution_count": 113,
   "metadata": {},
   "outputs": [
    {
     "data": {
      "text/plain": [
       "(29990, 13)"
      ]
     },
     "execution_count": 113,
     "metadata": {},
     "output_type": "execute_result"
    }
   ],
   "source": [
    "test.shape"
   ]
  },
  {
   "cell_type": "code",
   "execution_count": 115,
   "metadata": {},
   "outputs": [
    {
     "data": {
      "text/plain": [
       "17079"
      ]
     },
     "execution_count": 115,
     "metadata": {},
     "output_type": "execute_result"
    }
   ],
   "source": [
    "len(test['Horse'].unique())"
   ]
  },
  {
   "cell_type": "code",
   "execution_count": null,
   "metadata": {},
   "outputs": [],
   "source": []
  }
 ],
 "metadata": {
  "kernelspec": {
   "display_name": "Python 3",
   "language": "python",
   "name": "python3"
  },
  "language_info": {
   "codemirror_mode": {
    "name": "ipython",
    "version": 3
   },
   "file_extension": ".py",
   "mimetype": "text/x-python",
   "name": "python",
   "nbconvert_exporter": "python",
   "pygments_lexer": "ipython3",
   "version": "3.8.5"
  }
 },
 "nbformat": 4,
 "nbformat_minor": 4
}

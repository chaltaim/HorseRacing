{
 "cells": [
  {
   "cell_type": "code",
   "execution_count": 45,
   "metadata": {},
   "outputs": [],
   "source": [
    "import pandas as pd\n",
    "import numpy as np\n",
    "import matplotlib.pyplot as plt\n",
    "from scipy.stats import norm\n",
    "from scipy.stats import beta\n",
    "import scipy\n",
    "from sklearn import preprocessing\n",
    "from datetime import datetime\n",
    "import datetime\n",
    "from datetime import date, time, datetime"
   ]
  },
  {
   "cell_type": "code",
   "execution_count": 46,
   "metadata": {},
   "outputs": [],
   "source": [
    "sr = pd.read_csv(\"/Users/Jeanne/Documents/personal/Auction Results/soldresults.csv\")\n",
    "d = pd.read_csv(\"/Users/Jeanne/Documents/personal/Auction Results/hrnmalesumm.csv\")"
   ]
  },
  {
   "cell_type": "code",
   "execution_count": 47,
   "metadata": {},
   "outputs": [
    {
     "data": {
      "text/plain": [
       "(2568, 28)"
      ]
     },
     "execution_count": 47,
     "metadata": {},
     "output_type": "execute_result"
    }
   ],
   "source": [
    "sr.shape"
   ]
  },
  {
   "cell_type": "code",
   "execution_count": 48,
   "metadata": {},
   "outputs": [
    {
     "data": {
      "text/plain": [
       "(1552, 36)"
      ]
     },
     "execution_count": 48,
     "metadata": {},
     "output_type": "execute_result"
    }
   ],
   "source": [
    "df = pd.merge(sr, d, left_on='Sire', right_on='horse')\n",
    "df.shape"
   ]
  },
  {
   "cell_type": "code",
   "execution_count": 49,
   "metadata": {},
   "outputs": [
    {
     "data": {
      "text/plain": [
       "Index(['Unnamed: 0_x', 'Name', 'Color', 'Sex', 'Foal Date', 'Sire', 'Dam',\n",
       "       'Consignor', 'State', 'Barn', 'work time', 'set', 'day', 'Buyer ',\n",
       "       'price', 'PS', 'Status', 'Out Date', 'AlphSort', 'OBSDate',\n",
       "       'Sort By Dam', 'Area ID', 'In Foal Sire', 'Last Bred', 'Status ',\n",
       "       'out date', 'hip', 'DS', 'Unnamed: 0_y', 'horse', 'pr', 'btz', 'wtz',\n",
       "       'atz', 'npl', 'ap'],\n",
       "      dtype='object')"
      ]
     },
     "execution_count": 49,
     "metadata": {},
     "output_type": "execute_result"
    }
   ],
   "source": [
    "df.columns"
   ]
  },
  {
   "cell_type": "code",
   "execution_count": 50,
   "metadata": {},
   "outputs": [
    {
     "data": {
      "text/plain": [
       "0      2018-04-14\n",
       "1      2018-02-14\n",
       "2      2018-04-07\n",
       "3      2018-05-08\n",
       "4      2018-02-18\n",
       "          ...    \n",
       "1547   2020-04-27\n",
       "1548   2007-04-01\n",
       "1549   2013-04-16\n",
       "1550   2013-03-18\n",
       "1551   2008-02-10\n",
       "Name: Foal Date, Length: 1552, dtype: datetime64[ns]"
      ]
     },
     "execution_count": 50,
     "metadata": {},
     "output_type": "execute_result"
    }
   ],
   "source": [
    "df['Foal Date'] = pd.to_datetime(df['Foal Date'])\n",
    "df['Foal Date']"
   ]
  },
  {
   "cell_type": "code",
   "execution_count": 108,
   "metadata": {},
   "outputs": [
    {
     "data": {
      "text/plain": [
       "(100, 36)"
      ]
     },
     "execution_count": 108,
     "metadata": {},
     "output_type": "execute_result"
    }
   ],
   "source": [
    "df = df[df['Sex'] == 'C']\n",
    "df['Foal Date'] = pd.to_datetime(df['Foal Date'])\n",
    "dff = df[df['Foal Date'].dt.year == 2020]\n",
    "dff.shape"
   ]
  },
  {
   "cell_type": "code",
   "execution_count": 109,
   "metadata": {},
   "outputs": [
    {
     "data": {
      "text/plain": [
       "<matplotlib.collections.PathCollection at 0x20226fe7b80>"
      ]
     },
     "execution_count": 109,
     "metadata": {},
     "output_type": "execute_result"
    },
    {
     "data": {
      "image/png": "[encoded data removed]",
      "text/plain": [
       "<Figure size 432x288 with 1 Axes>"
      ]
     },
     "metadata": {
      "needs_background": "light"
     },
     "output_type": "display_data"
    }
   ],
   "source": [
    "y = dff['price']\n",
    "x = dff['atz']\n",
    "\n",
    "plt.scatter(x, y)"
   ]
  },
  {
   "cell_type": "code",
   "execution_count": 90,
   "metadata": {},
   "outputs": [
    {
     "name": "stderr",
     "output_type": "stream",
     "text": [
      "<ipython-input-90-9e7375e59acb>:15: SettingWithCopyWarning: \n",
      "A value is trying to be set on a copy of a slice from a DataFrame.\n",
      "Try using .loc[row_indexer,col_indexer] = value instead\n",
      "\n",
      "See the caveats in the documentation: https://pandas.pydata.org/pandas-docs/stable/user_guide/indexing.html#returning-a-view-versus-a-copy\n",
      "  dfwt['wtbool'] = worktime\n"
     ]
    },
    {
     "data": {
      "text/plain": [
       "<matplotlib.collections.PathCollection at 0x2022599a880>"
      ]
     },
     "execution_count": 90,
     "metadata": {},
     "output_type": "execute_result"
    },
    {
     "data": {
      "image/png": "[encoded data removed]",
      "text/plain": [
       "<Figure size 432x288 with 1 Axes>"
      ]
     },
     "metadata": {
      "needs_background": "light"
     },
     "output_type": "display_data"
    }
   ],
   "source": [
    "dfwt = df[pd.notnull(df['work time'])]\n",
    "\n",
    "def is_float(x):\n",
    "    try:\n",
    "        float(x)\n",
    "    except ValueError:\n",
    "        return False\n",
    "    return True\n",
    "\n",
    "worktime = list()\n",
    "for wt in dfwt['work time']:\n",
    "    q = is_float(wt)\n",
    "    worktime.append(q)\n",
    "\n",
    "dfwt['wtbool'] = worktime\n",
    "dfw = dfwt[dfwt['wtbool']== True]\n",
    "y = dfw['price']\n",
    "x = dfw['work time']\n",
    "\n",
    "x = x.astype('float')\n",
    "plt.scatter(x, y)"
   ]
  },
  {
   "cell_type": "code",
   "execution_count": 54,
   "metadata": {},
   "outputs": [
    {
     "data": {
      "text/plain": [
       "array([[ 1.        , -0.10339594],\n",
       "       [-0.10339594,  1.        ]])"
      ]
     },
     "execution_count": 54,
     "metadata": {},
     "output_type": "execute_result"
    }
   ],
   "source": [
    "np.corrcoef(x, y)"
   ]
  },
  {
   "cell_type": "code",
   "execution_count": 91,
   "metadata": {},
   "outputs": [],
   "source": [
    "df1 = df[df['horse']=='Practical Joke']"
   ]
  },
  {
   "cell_type": "code",
   "execution_count": 92,
   "metadata": {},
   "outputs": [
    {
     "data": {
      "text/html": [
       "<div>\n",
       "<style scoped>\n",
       "    .dataframe tbody tr th:only-of-type {\n",
       "        vertical-align: middle;\n",
       "    }\n",
       "\n",
       "    .dataframe tbody tr th {\n",
       "        vertical-align: top;\n",
       "    }\n",
       "\n",
       "    .dataframe thead th {\n",
       "        text-align: right;\n",
       "    }\n",
       "</style>\n",
       "<table border=\"1\" class=\"dataframe\">\n",
       "  <thead>\n",
       "    <tr style=\"text-align: right;\">\n",
       "      <th></th>\n",
       "      <th>Name</th>\n",
       "      <th>Color</th>\n",
       "      <th>Sex</th>\n",
       "      <th>Foal Date</th>\n",
       "      <th>Sire</th>\n",
       "      <th>Dam</th>\n",
       "      <th>Consignor</th>\n",
       "      <th>State</th>\n",
       "      <th>Barn</th>\n",
       "      <th>work time</th>\n",
       "      <th>set</th>\n",
       "      <th>day</th>\n",
       "      <th>Buyer</th>\n",
       "      <th>price</th>\n",
       "      <th>PS</th>\n",
       "      <th>Status</th>\n",
       "      <th>Out Date</th>\n",
       "      <th>AlphSort</th>\n",
       "      <th>OBSDate</th>\n",
       "    </tr>\n",
       "  </thead>\n",
       "  <tbody>\n",
       "    <tr>\n",
       "      <th>431</th>\n",
       "      <td>NaN</td>\n",
       "      <td>CH</td>\n",
       "      <td>C</td>\n",
       "      <td>2019-04-07</td>\n",
       "      <td>Practical Joke</td>\n",
       "      <td>Lu Lu Laura</td>\n",
       "      <td>Summerfield (Francis &amp; Barbara Vanlangendonck)...</td>\n",
       "      <td>FL</td>\n",
       "      <td>9.0</td>\n",
       "      <td>NaN</td>\n",
       "      <td>NaN</td>\n",
       "      <td>NaN</td>\n",
       "      <td>Lothenbach Stables, Inc.</td>\n",
       "      <td>70000.0</td>\n",
       "      <td>NaN</td>\n",
       "      <td>NaN</td>\n",
       "      <td>NaN</td>\n",
       "      <td>Summerfield</td>\n",
       "      <td>2020-10-01</td>\n",
       "    </tr>\n",
       "    <tr>\n",
       "      <th>432</th>\n",
       "      <td>NaN</td>\n",
       "      <td>B</td>\n",
       "      <td>C</td>\n",
       "      <td>2019-04-28</td>\n",
       "      <td>Practical Joke</td>\n",
       "      <td>Polyester</td>\n",
       "      <td>Stuart Morris, Agent XI</td>\n",
       "      <td>FL</td>\n",
       "      <td>13.0</td>\n",
       "      <td>NaN</td>\n",
       "      <td>NaN</td>\n",
       "      <td>NaN</td>\n",
       "      <td>Karl &amp; Cathi Glassman</td>\n",
       "      <td>140000.0</td>\n",
       "      <td>NaN</td>\n",
       "      <td>NaN</td>\n",
       "      <td>NaN</td>\n",
       "      <td>Morris Stuart</td>\n",
       "      <td>2020-10-01</td>\n",
       "    </tr>\n",
       "    <tr>\n",
       "      <th>433</th>\n",
       "      <td>NaN</td>\n",
       "      <td>CH</td>\n",
       "      <td>C</td>\n",
       "      <td>2019-02-08</td>\n",
       "      <td>Practical Joke</td>\n",
       "      <td>Broken Marriage</td>\n",
       "      <td>Stuart Morris, Agent II</td>\n",
       "      <td>KY</td>\n",
       "      <td>13.0</td>\n",
       "      <td>NaN</td>\n",
       "      <td>NaN</td>\n",
       "      <td>NaN</td>\n",
       "      <td>RiceHorse Stable</td>\n",
       "      <td>20000.0</td>\n",
       "      <td>PS</td>\n",
       "      <td>NaN</td>\n",
       "      <td>NaN</td>\n",
       "      <td>Morris Stuart</td>\n",
       "      <td>2020-10-01</td>\n",
       "    </tr>\n",
       "    <tr>\n",
       "      <th>435</th>\n",
       "      <td>NaN</td>\n",
       "      <td>B</td>\n",
       "      <td>C</td>\n",
       "      <td>2019-04-13</td>\n",
       "      <td>Practical Joke</td>\n",
       "      <td>Mystic City</td>\n",
       "      <td>Eddie Woods, Agent VIII</td>\n",
       "      <td>NaN</td>\n",
       "      <td>11.0</td>\n",
       "      <td>21.1</td>\n",
       "      <td>44.0</td>\n",
       "      <td>3/11</td>\n",
       "      <td>Sandin Syndicate Stable, W.E. Morey Agent</td>\n",
       "      <td>210000.0</td>\n",
       "      <td>NaN</td>\n",
       "      <td>NaN</td>\n",
       "      <td>NaN</td>\n",
       "      <td>Woods Eddie</td>\n",
       "      <td>2021-03-01</td>\n",
       "    </tr>\n",
       "    <tr>\n",
       "      <th>436</th>\n",
       "      <td>NaN</td>\n",
       "      <td>B</td>\n",
       "      <td>C</td>\n",
       "      <td>2019-03-31</td>\n",
       "      <td>Practical Joke</td>\n",
       "      <td>Untraveled</td>\n",
       "      <td>McKathan Bros. Sales, Agent II</td>\n",
       "      <td>NaN</td>\n",
       "      <td>6.0</td>\n",
       "      <td>9.4</td>\n",
       "      <td>20.0</td>\n",
       "      <td>3/12</td>\n",
       "      <td>Hideyuki Mori</td>\n",
       "      <td>190000.0</td>\n",
       "      <td>NaN</td>\n",
       "      <td>NaN</td>\n",
       "      <td>NaN</td>\n",
       "      <td>McKathan Bros.</td>\n",
       "      <td>2021-03-01</td>\n",
       "    </tr>\n",
       "    <tr>\n",
       "      <th>439</th>\n",
       "      <td>NaN</td>\n",
       "      <td>DB/BR</td>\n",
       "      <td>C</td>\n",
       "      <td>2020-04-03</td>\n",
       "      <td>Practical Joke</td>\n",
       "      <td>Gaylo</td>\n",
       "      <td>Pelican State Thoroughbreds, Agent I</td>\n",
       "      <td>NaN</td>\n",
       "      <td>10.0</td>\n",
       "      <td>NaN</td>\n",
       "      <td>NaN</td>\n",
       "      <td>NaN</td>\n",
       "      <td>August West</td>\n",
       "      <td>60000.0</td>\n",
       "      <td>NaN</td>\n",
       "      <td>NaN</td>\n",
       "      <td>NaN</td>\n",
       "      <td>PelicanStateThoroughbreds</td>\n",
       "      <td>2021-01-01</td>\n",
       "    </tr>\n",
       "    <tr>\n",
       "      <th>440</th>\n",
       "      <td>NaN</td>\n",
       "      <td>GR/RO</td>\n",
       "      <td>C</td>\n",
       "      <td>2020-03-20</td>\n",
       "      <td>Practical Joke</td>\n",
       "      <td>Holy Legacy</td>\n",
       "      <td>Kaizen Sales (Richard Kent), Agent II</td>\n",
       "      <td>NaN</td>\n",
       "      <td>7.0</td>\n",
       "      <td>NaN</td>\n",
       "      <td>NaN</td>\n",
       "      <td>NaN</td>\n",
       "      <td>Tom McCrocklin, Agent for Robert Cotran</td>\n",
       "      <td>50000.0</td>\n",
       "      <td>NaN</td>\n",
       "      <td>NaN</td>\n",
       "      <td>NaN</td>\n",
       "      <td>KaizenSales</td>\n",
       "      <td>2021-01-01</td>\n",
       "    </tr>\n",
       "    <tr>\n",
       "      <th>441</th>\n",
       "      <td>NaN</td>\n",
       "      <td>B</td>\n",
       "      <td>C</td>\n",
       "      <td>2020-03-04</td>\n",
       "      <td>Practical Joke</td>\n",
       "      <td>Mobeautiful</td>\n",
       "      <td>Summerfield (Francis &amp; Barbara Vanlangendonck)...</td>\n",
       "      <td>NaN</td>\n",
       "      <td>9.0</td>\n",
       "      <td>NaN</td>\n",
       "      <td>NaN</td>\n",
       "      <td>NaN</td>\n",
       "      <td>Shepherd Equine Advisor Agt for Larry Hirsch</td>\n",
       "      <td>130000.0</td>\n",
       "      <td>NaN</td>\n",
       "      <td>NaN</td>\n",
       "      <td>NaN</td>\n",
       "      <td>Summerfield</td>\n",
       "      <td>2021-01-01</td>\n",
       "    </tr>\n",
       "  </tbody>\n",
       "</table>\n",
       "</div>"
      ],
      "text/plain": [
       "    Name  Color Sex  Foal Date            Sire              Dam  \\\n",
       "431  NaN     CH   C 2019-04-07  Practical Joke      Lu Lu Laura   \n",
       "432  NaN      B   C 2019-04-28  Practical Joke        Polyester   \n",
       "433  NaN     CH   C 2019-02-08  Practical Joke  Broken Marriage   \n",
       "435  NaN      B   C 2019-04-13  Practical Joke      Mystic City   \n",
       "436  NaN      B   C 2019-03-31  Practical Joke       Untraveled   \n",
       "439  NaN  DB/BR   C 2020-04-03  Practical Joke            Gaylo   \n",
       "440  NaN  GR/RO   C 2020-03-20  Practical Joke      Holy Legacy   \n",
       "441  NaN      B   C 2020-03-04  Practical Joke      Mobeautiful   \n",
       "\n",
       "                                             Consignor State  Barn work time  \\\n",
       "431  Summerfield (Francis & Barbara Vanlangendonck)...    FL   9.0       NaN   \n",
       "432                            Stuart Morris, Agent XI    FL  13.0       NaN   \n",
       "433                            Stuart Morris, Agent II    KY  13.0       NaN   \n",
       "435                            Eddie Woods, Agent VIII   NaN  11.0      21.1   \n",
       "436                     McKathan Bros. Sales, Agent II   NaN   6.0       9.4   \n",
       "439               Pelican State Thoroughbreds, Agent I   NaN  10.0       NaN   \n",
       "440              Kaizen Sales (Richard Kent), Agent II   NaN   7.0       NaN   \n",
       "441  Summerfield (Francis & Barbara Vanlangendonck)...   NaN   9.0       NaN   \n",
       "\n",
       "      set   day                                        Buyer      price   PS  \\\n",
       "431   NaN   NaN                      Lothenbach Stables, Inc.   70000.0  NaN   \n",
       "432   NaN   NaN                         Karl & Cathi Glassman  140000.0  NaN   \n",
       "433   NaN   NaN                              RiceHorse Stable   20000.0   PS   \n",
       "435  44.0  3/11     Sandin Syndicate Stable, W.E. Morey Agent  210000.0  NaN   \n",
       "436  20.0  3/12                                 Hideyuki Mori  190000.0  NaN   \n",
       "439   NaN   NaN                                   August West   60000.0  NaN   \n",
       "440   NaN   NaN       Tom McCrocklin, Agent for Robert Cotran   50000.0  NaN   \n",
       "441   NaN   NaN  Shepherd Equine Advisor Agt for Larry Hirsch  130000.0  NaN   \n",
       "\n",
       "     Status Out Date                   AlphSort     OBSDate  \n",
       "431     NaN      NaN                Summerfield  2020-10-01  \n",
       "432     NaN      NaN              Morris Stuart  2020-10-01  \n",
       "433     NaN      NaN              Morris Stuart  2020-10-01  \n",
       "435     NaN      NaN                Woods Eddie  2021-03-01  \n",
       "436     NaN      NaN             McKathan Bros.  2021-03-01  \n",
       "439     NaN      NaN  PelicanStateThoroughbreds  2021-01-01  \n",
       "440     NaN      NaN                KaizenSales  2021-01-01  \n",
       "441     NaN      NaN                Summerfield  2021-01-01  "
      ]
     },
     "execution_count": 92,
     "metadata": {},
     "output_type": "execute_result"
    }
   ],
   "source": [
    "df1.iloc[:,1:20]"
   ]
  },
  {
   "cell_type": "code",
   "execution_count": 93,
   "metadata": {},
   "outputs": [
    {
     "data": {
      "text/html": [
       "<div>\n",
       "<style scoped>\n",
       "    .dataframe tbody tr th:only-of-type {\n",
       "        vertical-align: middle;\n",
       "    }\n",
       "\n",
       "    .dataframe tbody tr th {\n",
       "        vertical-align: top;\n",
       "    }\n",
       "\n",
       "    .dataframe thead th {\n",
       "        text-align: right;\n",
       "    }\n",
       "</style>\n",
       "<table border=\"1\" class=\"dataframe\">\n",
       "  <thead>\n",
       "    <tr style=\"text-align: right;\">\n",
       "      <th></th>\n",
       "      <th>Sort By Dam</th>\n",
       "      <th>Area ID</th>\n",
       "      <th>In Foal Sire</th>\n",
       "      <th>Last Bred</th>\n",
       "      <th>Status</th>\n",
       "      <th>out date</th>\n",
       "      <th>hip</th>\n",
       "      <th>DS</th>\n",
       "      <th>Unnamed: 0_y</th>\n",
       "      <th>horse</th>\n",
       "      <th>pr</th>\n",
       "      <th>btz</th>\n",
       "      <th>wtz</th>\n",
       "      <th>atz</th>\n",
       "      <th>npl</th>\n",
       "      <th>ap</th>\n",
       "    </tr>\n",
       "  </thead>\n",
       "  <tbody>\n",
       "    <tr>\n",
       "      <th>431</th>\n",
       "      <td>NaN</td>\n",
       "      <td>NaN</td>\n",
       "      <td>NaN</td>\n",
       "      <td>NaN</td>\n",
       "      <td>NaN</td>\n",
       "      <td>NaN</td>\n",
       "      <td>140.0</td>\n",
       "      <td>Circular Quay</td>\n",
       "      <td>83</td>\n",
       "      <td>Practical Joke</td>\n",
       "      <td>1 mile</td>\n",
       "      <td>-0.410726</td>\n",
       "      <td>-0.313201</td>\n",
       "      <td>-0.352675</td>\n",
       "      <td>9</td>\n",
       "      <td>2.285714</td>\n",
       "    </tr>\n",
       "    <tr>\n",
       "      <th>432</th>\n",
       "      <td>NaN</td>\n",
       "      <td>NaN</td>\n",
       "      <td>NaN</td>\n",
       "      <td>NaN</td>\n",
       "      <td>NaN</td>\n",
       "      <td>NaN</td>\n",
       "      <td>173.0</td>\n",
       "      <td>Tiz Wonderful</td>\n",
       "      <td>83</td>\n",
       "      <td>Practical Joke</td>\n",
       "      <td>1 mile</td>\n",
       "      <td>-0.410726</td>\n",
       "      <td>-0.313201</td>\n",
       "      <td>-0.352675</td>\n",
       "      <td>9</td>\n",
       "      <td>2.285714</td>\n",
       "    </tr>\n",
       "    <tr>\n",
       "      <th>433</th>\n",
       "      <td>NaN</td>\n",
       "      <td>NaN</td>\n",
       "      <td>NaN</td>\n",
       "      <td>NaN</td>\n",
       "      <td>NaN</td>\n",
       "      <td>NaN</td>\n",
       "      <td>636.0</td>\n",
       "      <td>Broken Vow</td>\n",
       "      <td>83</td>\n",
       "      <td>Practical Joke</td>\n",
       "      <td>1 mile</td>\n",
       "      <td>-0.410726</td>\n",
       "      <td>-0.313201</td>\n",
       "      <td>-0.352675</td>\n",
       "      <td>9</td>\n",
       "      <td>2.285714</td>\n",
       "    </tr>\n",
       "    <tr>\n",
       "      <th>435</th>\n",
       "      <td>MysticCity</td>\n",
       "      <td>KY</td>\n",
       "      <td>NaN</td>\n",
       "      <td>NaN</td>\n",
       "      <td>NaN</td>\n",
       "      <td>NaN</td>\n",
       "      <td>113.0</td>\n",
       "      <td>City Zip</td>\n",
       "      <td>83</td>\n",
       "      <td>Practical Joke</td>\n",
       "      <td>1 mile</td>\n",
       "      <td>-0.410726</td>\n",
       "      <td>-0.313201</td>\n",
       "      <td>-0.352675</td>\n",
       "      <td>9</td>\n",
       "      <td>2.285714</td>\n",
       "    </tr>\n",
       "    <tr>\n",
       "      <th>436</th>\n",
       "      <td>Untraveled</td>\n",
       "      <td>KY</td>\n",
       "      <td>NaN</td>\n",
       "      <td>NaN</td>\n",
       "      <td>NaN</td>\n",
       "      <td>NaN</td>\n",
       "      <td>309.0</td>\n",
       "      <td>Canadian Frontier</td>\n",
       "      <td>83</td>\n",
       "      <td>Practical Joke</td>\n",
       "      <td>1 mile</td>\n",
       "      <td>-0.410726</td>\n",
       "      <td>-0.313201</td>\n",
       "      <td>-0.352675</td>\n",
       "      <td>9</td>\n",
       "      <td>2.285714</td>\n",
       "    </tr>\n",
       "    <tr>\n",
       "      <th>439</th>\n",
       "      <td>Gaylo</td>\n",
       "      <td>LA</td>\n",
       "      <td>NaN</td>\n",
       "      <td>NaN</td>\n",
       "      <td>NaN</td>\n",
       "      <td>NaN</td>\n",
       "      <td>119.0</td>\n",
       "      <td>Gayego</td>\n",
       "      <td>83</td>\n",
       "      <td>Practical Joke</td>\n",
       "      <td>1 mile</td>\n",
       "      <td>-0.410726</td>\n",
       "      <td>-0.313201</td>\n",
       "      <td>-0.352675</td>\n",
       "      <td>9</td>\n",
       "      <td>2.285714</td>\n",
       "    </tr>\n",
       "    <tr>\n",
       "      <th>440</th>\n",
       "      <td>HolyLegacy</td>\n",
       "      <td>FL</td>\n",
       "      <td>NaN</td>\n",
       "      <td>NaN</td>\n",
       "      <td>NaN</td>\n",
       "      <td>NaN</td>\n",
       "      <td>132.0</td>\n",
       "      <td>Unbridled's Song</td>\n",
       "      <td>83</td>\n",
       "      <td>Practical Joke</td>\n",
       "      <td>1 mile</td>\n",
       "      <td>-0.410726</td>\n",
       "      <td>-0.313201</td>\n",
       "      <td>-0.352675</td>\n",
       "      <td>9</td>\n",
       "      <td>2.285714</td>\n",
       "    </tr>\n",
       "    <tr>\n",
       "      <th>441</th>\n",
       "      <td>Mobeautiful</td>\n",
       "      <td>KY</td>\n",
       "      <td>NaN</td>\n",
       "      <td>NaN</td>\n",
       "      <td>NaN</td>\n",
       "      <td>NaN</td>\n",
       "      <td>182.0</td>\n",
       "      <td>Uncle Mo</td>\n",
       "      <td>83</td>\n",
       "      <td>Practical Joke</td>\n",
       "      <td>1 mile</td>\n",
       "      <td>-0.410726</td>\n",
       "      <td>-0.313201</td>\n",
       "      <td>-0.352675</td>\n",
       "      <td>9</td>\n",
       "      <td>2.285714</td>\n",
       "    </tr>\n",
       "  </tbody>\n",
       "</table>\n",
       "</div>"
      ],
      "text/plain": [
       "     Sort By Dam Area ID In Foal Sire Last Bred  Status   out date    hip  \\\n",
       "431          NaN     NaN          NaN       NaN      NaN       NaN  140.0   \n",
       "432          NaN     NaN          NaN       NaN      NaN       NaN  173.0   \n",
       "433          NaN     NaN          NaN       NaN      NaN       NaN  636.0   \n",
       "435   MysticCity      KY          NaN       NaN      NaN       NaN  113.0   \n",
       "436   Untraveled      KY          NaN       NaN      NaN       NaN  309.0   \n",
       "439        Gaylo      LA          NaN       NaN      NaN       NaN  119.0   \n",
       "440   HolyLegacy      FL          NaN       NaN      NaN       NaN  132.0   \n",
       "441  Mobeautiful      KY          NaN       NaN      NaN       NaN  182.0   \n",
       "\n",
       "                    DS  Unnamed: 0_y           horse      pr       btz  \\\n",
       "431      Circular Quay            83  Practical Joke  1 mile -0.410726   \n",
       "432      Tiz Wonderful            83  Practical Joke  1 mile -0.410726   \n",
       "433         Broken Vow            83  Practical Joke  1 mile -0.410726   \n",
       "435           City Zip            83  Practical Joke  1 mile -0.410726   \n",
       "436  Canadian Frontier            83  Practical Joke  1 mile -0.410726   \n",
       "439             Gayego            83  Practical Joke  1 mile -0.410726   \n",
       "440   Unbridled's Song            83  Practical Joke  1 mile -0.410726   \n",
       "441           Uncle Mo            83  Practical Joke  1 mile -0.410726   \n",
       "\n",
       "          wtz       atz  npl        ap  \n",
       "431 -0.313201 -0.352675    9  2.285714  \n",
       "432 -0.313201 -0.352675    9  2.285714  \n",
       "433 -0.313201 -0.352675    9  2.285714  \n",
       "435 -0.313201 -0.352675    9  2.285714  \n",
       "436 -0.313201 -0.352675    9  2.285714  \n",
       "439 -0.313201 -0.352675    9  2.285714  \n",
       "440 -0.313201 -0.352675    9  2.285714  \n",
       "441 -0.313201 -0.352675    9  2.285714  "
      ]
     },
     "execution_count": 93,
     "metadata": {},
     "output_type": "execute_result"
    }
   ],
   "source": [
    "df1.iloc[:,20:40]"
   ]
  },
  {
   "cell_type": "code",
   "execution_count": null,
   "metadata": {},
   "outputs": [],
   "source": [
    "df['Foal Date'] = pd.to_datetime(df['Foal Date'])\n",
    "df['Foal Date']"
   ]
  }
 ],
 "metadata": {
  "kernelspec": {
   "display_name": "Python 3",
   "language": "python",
   "name": "python3"
  },
  "language_info": {
   "codemirror_mode": {
    "name": "ipython",
    "version": 3
   },
   "file_extension": ".py",
   "mimetype": "text/x-python",
   "name": "python",
   "nbconvert_exporter": "python",
   "pygments_lexer": "ipython3",
   "version": "3.8.5"
  }
 },
 "nbformat": 4,
 "nbformat_minor": 4
}

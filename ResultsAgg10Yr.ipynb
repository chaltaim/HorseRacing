{
 "cells": [
  {
   "cell_type": "code",
   "execution_count": 2,
   "metadata": {},
   "outputs": [],
   "source": [
    "import pandas as pd\n",
    "import numpy as np\n",
    "import matplotlib.pyplot as plt\n",
    "from scipy.stats import norm\n",
    "from scipy.stats import beta\n",
    "import scipy\n",
    "from sklearn import preprocessing\n",
    "from datetime import datetime\n",
    "from datetime import date, time, datetime\n",
    "import os, pandas as pd, glob\n",
    "import pandas.io.common"
   ]
  },
  {
   "cell_type": "code",
   "execution_count": 186,
   "metadata": {},
   "outputs": [
    {
     "data": {
      "text/html": [
       "<div>\n",
       "<style scoped>\n",
       "    .dataframe tbody tr th:only-of-type {\n",
       "        vertical-align: middle;\n",
       "    }\n",
       "\n",
       "    .dataframe tbody tr th {\n",
       "        vertical-align: top;\n",
       "    }\n",
       "\n",
       "    .dataframe thead th {\n",
       "        text-align: right;\n",
       "    }\n",
       "</style>\n",
       "<table border=\"1\" class=\"dataframe\">\n",
       "  <thead>\n",
       "    <tr style=\"text-align: right;\">\n",
       "      <th></th>\n",
       "      <th>hip#</th>\n",
       "      <th>NAME</th>\n",
       "      <th>sex</th>\n",
       "      <th>year</th>\n",
       "      <th>SIRE</th>\n",
       "      <th>DAM</th>\n",
       "      <th>IN FOAL SIRE</th>\n",
       "      <th>CONSIGNOR</th>\n",
       "      <th>Buyer</th>\n",
       "      <th>Price</th>\n",
       "      <th>...</th>\n",
       "      <th>SEX</th>\n",
       "      <th>Unnamed: 13</th>\n",
       "      <th>Unnamed: 14</th>\n",
       "      <th>Unnamed: 11</th>\n",
       "      <th>AREA_ID</th>\n",
       "      <th>DamSire</th>\n",
       "      <th>Hip #</th>\n",
       "      <th>UT Time</th>\n",
       "      <th>In-Foal-Sire</th>\n",
       "      <th>Under Tack</th>\n",
       "    </tr>\n",
       "  </thead>\n",
       "  <tbody>\n",
       "    <tr>\n",
       "      <th>0</th>\n",
       "      <td>1</td>\n",
       "      <td>Magical Masquerade</td>\n",
       "      <td>M</td>\n",
       "      <td>98</td>\n",
       "      <td>Unbridled</td>\n",
       "      <td>Nannerl</td>\n",
       "      <td>Tiz Wonderful</td>\n",
       "      <td>Beth Bayer, Agent X</td>\n",
       "      <td>HARTLEY/DE RENZO THOROUGHBREDS</td>\n",
       "      <td>9000</td>\n",
       "      <td>...</td>\n",
       "      <td>NaN</td>\n",
       "      <td>NaN</td>\n",
       "      <td>NaN</td>\n",
       "      <td>NaN</td>\n",
       "      <td>NaN</td>\n",
       "      <td>NaN</td>\n",
       "      <td>NaN</td>\n",
       "      <td>NaN</td>\n",
       "      <td>NaN</td>\n",
       "      <td>NaN</td>\n",
       "    </tr>\n",
       "    <tr>\n",
       "      <th>1</th>\n",
       "      <td>2</td>\n",
       "      <td>Storm Savvy</td>\n",
       "      <td>M</td>\n",
       "      <td>4</td>\n",
       "      <td>Suave Prospect</td>\n",
       "      <td>National Finalist</td>\n",
       "      <td>Benny the Bull</td>\n",
       "      <td>Sue Vacek, Agent IV</td>\n",
       "      <td>4500</td>\n",
       "      <td>NOT SOLD</td>\n",
       "      <td>...</td>\n",
       "      <td>NaN</td>\n",
       "      <td>NaN</td>\n",
       "      <td>NaN</td>\n",
       "      <td>NaN</td>\n",
       "      <td>NaN</td>\n",
       "      <td>NaN</td>\n",
       "      <td>NaN</td>\n",
       "      <td>NaN</td>\n",
       "      <td>NaN</td>\n",
       "      <td>NaN</td>\n",
       "    </tr>\n",
       "    <tr>\n",
       "      <th>2</th>\n",
       "      <td>3</td>\n",
       "      <td>Great Looking Miss</td>\n",
       "      <td>M</td>\n",
       "      <td>93</td>\n",
       "      <td>Great Above</td>\n",
       "      <td>Native Look</td>\n",
       "      <td>D'wildcat</td>\n",
       "      <td>Kaizen Sales, Agent for Plumley Farms (Continu...</td>\n",
       "      <td>0</td>\n",
       "      <td>NOT SOLD</td>\n",
       "      <td>...</td>\n",
       "      <td>NaN</td>\n",
       "      <td>NaN</td>\n",
       "      <td>NaN</td>\n",
       "      <td>NaN</td>\n",
       "      <td>NaN</td>\n",
       "      <td>NaN</td>\n",
       "      <td>NaN</td>\n",
       "      <td>NaN</td>\n",
       "      <td>NaN</td>\n",
       "      <td>NaN</td>\n",
       "    </tr>\n",
       "    <tr>\n",
       "      <th>3</th>\n",
       "      <td>4</td>\n",
       "      <td>Heiress</td>\n",
       "      <td>M</td>\n",
       "      <td>7</td>\n",
       "      <td>Wildcat Heir</td>\n",
       "      <td>Note to Mimi</td>\n",
       "      <td>Montbrook</td>\n",
       "      <td>Beth Bayer, Agent VII</td>\n",
       "      <td>H&amp;E RANCH</td>\n",
       "      <td>10000</td>\n",
       "      <td>...</td>\n",
       "      <td>NaN</td>\n",
       "      <td>NaN</td>\n",
       "      <td>NaN</td>\n",
       "      <td>NaN</td>\n",
       "      <td>NaN</td>\n",
       "      <td>NaN</td>\n",
       "      <td>NaN</td>\n",
       "      <td>NaN</td>\n",
       "      <td>NaN</td>\n",
       "      <td>NaN</td>\n",
       "    </tr>\n",
       "    <tr>\n",
       "      <th>4</th>\n",
       "      <td>5</td>\n",
       "      <td>Bucett</td>\n",
       "      <td>M</td>\n",
       "      <td>94</td>\n",
       "      <td>Buckaroo</td>\n",
       "      <td>Pannie's Sister</td>\n",
       "      <td>Graeme Hall</td>\n",
       "      <td>Thoroughstock, Agent II</td>\n",
       "      <td>3500</td>\n",
       "      <td>NOT SOLD</td>\n",
       "      <td>...</td>\n",
       "      <td>NaN</td>\n",
       "      <td>NaN</td>\n",
       "      <td>NaN</td>\n",
       "      <td>NaN</td>\n",
       "      <td>NaN</td>\n",
       "      <td>NaN</td>\n",
       "      <td>NaN</td>\n",
       "      <td>NaN</td>\n",
       "      <td>NaN</td>\n",
       "      <td>NaN</td>\n",
       "    </tr>\n",
       "  </tbody>\n",
       "</table>\n",
       "<p>5 rows × 71 columns</p>\n",
       "</div>"
      ],
      "text/plain": [
       "  hip#                NAME sex year            SIRE                DAM  \\\n",
       "0    1  Magical Masquerade   M   98       Unbridled            Nannerl   \n",
       "1    2         Storm Savvy   M    4  Suave Prospect  National Finalist   \n",
       "2    3  Great Looking Miss   M   93     Great Above        Native Look   \n",
       "3    4             Heiress   M    7    Wildcat Heir       Note to Mimi   \n",
       "4    5              Bucett   M   94        Buckaroo    Pannie's Sister   \n",
       "\n",
       "     IN FOAL SIRE                                          CONSIGNOR  \\\n",
       "0   Tiz Wonderful                                Beth Bayer, Agent X   \n",
       "1  Benny the Bull                                Sue Vacek, Agent IV   \n",
       "2       D'wildcat  Kaizen Sales, Agent for Plumley Farms (Continu...   \n",
       "3       Montbrook                              Beth Bayer, Agent VII   \n",
       "4     Graeme Hall                            Thoroughstock, Agent II   \n",
       "\n",
       "                            Buyer     Price  ...  SEX Unnamed: 13 Unnamed: 14  \\\n",
       "0  HARTLEY/DE RENZO THOROUGHBREDS      9000  ...  NaN         NaN         NaN   \n",
       "1                            4500  NOT SOLD  ...  NaN         NaN         NaN   \n",
       "2                               0  NOT SOLD  ...  NaN         NaN         NaN   \n",
       "3                      H&E RANCH      10000  ...  NaN         NaN         NaN   \n",
       "4                            3500  NOT SOLD  ...  NaN         NaN         NaN   \n",
       "\n",
       "  Unnamed: 11 AREA_ID DamSire Hip # UT Time In-Foal-Sire  Under Tack  \n",
       "0         NaN     NaN     NaN   NaN     NaN          NaN         NaN  \n",
       "1         NaN     NaN     NaN   NaN     NaN          NaN         NaN  \n",
       "2         NaN     NaN     NaN   NaN     NaN          NaN         NaN  \n",
       "3         NaN     NaN     NaN   NaN     NaN          NaN         NaN  \n",
       "4         NaN     NaN     NaN   NaN     NaN          NaN         NaN  \n",
       "\n",
       "[5 rows x 71 columns]"
      ]
     },
     "execution_count": 186,
     "metadata": {},
     "output_type": "execute_result"
    }
   ],
   "source": [
    "path = \"/Users/Jeanne/Documents/personal/Auction Results/OBS/Excel\"\n",
    "files_list = glob.glob(os.path.join(path, \"*.xls\"))\n",
    "files_listx = glob.glob(os.path.join(path, \"*.xlsx\"))\n",
    "for f in files_listx:\n",
    "    files_list.append(f)\n",
    "\n",
    "headers = ('Hip #','Sex','Sire','Dam','Consignor','Buyer','Price','PS')\n",
    "#df = pd.DataFrame(columns=headers)\n",
    "df = pd.DataFrame()\n",
    "for f in files_list:\n",
    "    temp = pd.read_excel(f,nrows = 20)\n",
    "    row = temp.iloc[:,7].first_valid_index()\n",
    "    \n",
    "    temp = pd.read_excel(f,header = row+1)\n",
    "    y = 2000 + int(f[64:66])\n",
    "    m = int(f[62:64])\n",
    "    temp['OBSDate'] = date(year=y, month=m, day=1)\n",
    "    df = df.append(temp)\n",
    "    \n",
    "df.head()"
   ]
  },
  {
   "cell_type": "code",
   "execution_count": 172,
   "metadata": {},
   "outputs": [
    {
     "data": {
      "text/plain": [
       "Index(['hip#', 'NAME', 'sex', 'year', 'SIRE', 'DAM', 'IN FOAL SIRE',\n",
       "       'CONSIGNOR', 'Buyer', 'Price', 'Unnamed: 10', 'OBSDate', 'BUYER',\n",
       "       'PRICE', 'PS', 'WORK TIME', 'Name', 'Color', 'Sex', 'Year', 'Sire',\n",
       "       'Dam', 'In Foal Sire', 'Last Bred', 'Sort By Dam', 'Consignor',\n",
       "       'Area ID', 'Barn', 'Buyer ', 'Price ', 'AlphSort', 'Foal Date',\n",
       "       'Dam Sire', 'work time', 'set', 'day', 'Status', 'Out Date', 'Status ',\n",
       "       'out date', 'color', 'mo', 'date', 'yr', 'Unnamed: 12', 'Unnamed: 8',\n",
       "       'Work Time', 'm', 'd', 'state', 'BARN', 'consignsort', 'Hip#', 'M', 'D',\n",
       "       'YR', 'State', 'Consignsort', 'BUYER ', 'Unnamed: 17', 'COLOR', 'SEX',\n",
       "       'Unnamed: 13', 'Unnamed: 14', 'Unnamed: 11', 'AREA_ID', 'DamSire',\n",
       "       'Hip #', 'UT Time', 'In-Foal-Sire', 'Under Tack'],\n",
       "      dtype='object')"
      ]
     },
     "execution_count": 172,
     "metadata": {},
     "output_type": "execute_result"
    }
   ],
   "source": [
    "col = df.columns\n",
    "col"
   ]
  },
  {
   "cell_type": "code",
   "execution_count": 187,
   "metadata": {},
   "outputs": [
    {
     "data": {
      "text/plain": [
       "(45885, 71)"
      ]
     },
     "execution_count": 187,
     "metadata": {},
     "output_type": "execute_result"
    }
   ],
   "source": [
    "df1 = df\n",
    "df1.shape"
   ]
  },
  {
   "cell_type": "code",
   "execution_count": 201,
   "metadata": {},
   "outputs": [
    {
     "data": {
      "text/plain": [
       "count    2.627400e+04\n",
       "mean     5.322240e+04\n",
       "std      3.429808e+05\n",
       "min      1.000000e+00\n",
       "25%      7.200000e+03\n",
       "50%      2.000000e+04\n",
       "75%      5.000000e+04\n",
       "max      5.329190e+07\n",
       "Name: Pricef, dtype: float64"
      ]
     },
     "execution_count": 201,
     "metadata": {},
     "output_type": "execute_result"
    }
   ],
   "source": [
    "df1 = df\n",
    "\n",
    "cols = ['Price ', 'Price', 'PRICE']\n",
    "for c in cols:\n",
    "    df1[c] = df1[c].fillna('')\n",
    "    df1[c] = df1[c].astype(str)\n",
    "    df1[c] = df1[c].replace('nan','')\n",
    "    \n",
    "df1['Pricef'] = df1[cols].fillna('').sum(axis=1)\n",
    "df1 = df1.drop(cols, 1)\n",
    "\n",
    "df1['Pricef'] = df1['Pricef'].str.replace(',','')\n",
    "df1 = df1[df1['Pricef'] != 'Out']\n",
    "df1 = df1[df1['Pricef'] != 'OUT']\n",
    "df1 = df1[df1['Pricef'] != 'Not Sold']\n",
    "df1 = df1[df1['Pricef'] != 'NOT SOLD']\n",
    "\n",
    "df1['Pricef'] = pd.to_numeric(df1['Pricef'], errors='coerce')\n",
    "\n",
    "df1['Pricef'].describe()"
   ]
  },
  {
   "cell_type": "code",
   "execution_count": 202,
   "metadata": {},
   "outputs": [
    {
     "data": {
      "text/plain": [
       "(26505, 69)"
      ]
     },
     "execution_count": 202,
     "metadata": {},
     "output_type": "execute_result"
    }
   ],
   "source": [
    "df1.shape"
   ]
  },
  {
   "cell_type": "code",
   "execution_count": 203,
   "metadata": {},
   "outputs": [
    {
     "data": {
      "text/plain": [
       "Index(['OBSDate', 'PS', 'Last Bred', 'Sort By Dam', 'Buyer ', 'AlphSort',\n",
       "       'Foal Date', 'set', 'date', 'Pricef', 'DS', 'Buyerf', 'Sexf', 'Barnf',\n",
       "       'Consignorf', 'Colorf', 'Statusf', 'Namef', 'IFSf', 'WTf', 'Damf',\n",
       "       'Siref', 'Mf', 'Yf', 'ODf', 'UTf', 'Areaf', 'Statef'],\n",
       "      dtype='object')"
      ]
     },
     "execution_count": 203,
     "metadata": {},
     "output_type": "execute_result"
    }
   ],
   "source": [
    "#df1 = df\n",
    "unwanted = df1.columns[df1.columns.str.startswith('Unnamed:')]\n",
    "df1.drop(unwanted, axis=1, inplace=True)\n",
    "\n",
    "cols = ['Hip#', 'hip#', 'Hip #', 'hip']\n",
    "df1['hip'] = np.nan\n",
    "df1['hip'] = df1[cols].sum(1)\n",
    "df1 = df1.drop(cols, 1)\n",
    "\n",
    "cols = ['DamSire', 'Dam Sire']\n",
    "df1['DS'] = df1[cols].fillna('').sum(axis=1)\n",
    "df1 = df1.drop(cols, 1)\n",
    "\n",
    "cols = ['Buyer', 'BUYER', 'BUYER ']\n",
    "df1['Buyerf'] = df1[cols].fillna('').sum(axis=1)\n",
    "df1 = df1.drop(cols, 1)\n",
    "\n",
    "cols = ['Sex', 'sex', 'SEX']\n",
    "df1['Sexf'] = df1[cols].fillna('').sum(axis=1)\n",
    "df1 = df1.drop(cols, 1)\n",
    "\n",
    "cols = ['BARN', 'Barn']\n",
    "df1['Barnf'] = df1[cols].fillna('').sum(axis=1)\n",
    "df1 = df1.drop(cols, 1)\n",
    "\n",
    "cols = ['Consignor', 'consignsort', 'Consignsort', 'CONSIGNOR']\n",
    "df1['Consignorf'] = df1[cols].fillna('').sum(axis=1)\n",
    "df1 = df1.drop(cols, 1)\n",
    "\n",
    "cols = ['Color', 'COLOR', 'color']\n",
    "df1['Colorf'] = df1[cols].fillna('').sum(axis=1)\n",
    "df1 = df1.drop(cols, 1)\n",
    "\n",
    "cols = ['Status ', 'Status']\n",
    "df1['Statusf'] = df1[cols].fillna('').sum(axis=1)\n",
    "df1 = df1.drop(cols, 1)\n",
    "\n",
    "cols = ['NAME', 'Name']\n",
    "df1['Namef'] = df1[cols].fillna('').sum(axis=1)\n",
    "df1 = df1.drop(cols, 1)\n",
    "\n",
    "cols = ['IN FOAL SIRE', 'In Foal Sire', 'In-Foal-Sire']\n",
    "df1['IFSf'] = df1[cols].fillna('').sum(axis=1)\n",
    "df1 = df1.drop(cols, 1)\n",
    "\n",
    "cols = ['WORK TIME', 'work time', 'Work Time']\n",
    "df1['WTf'] = df1[cols].fillna('').sum(axis=1)\n",
    "df1 = df1.drop(cols, 1)\n",
    "\n",
    "cols = ['DAM', 'Dam']\n",
    "df1['Damf'] = df1[cols].fillna('').sum(axis=1)\n",
    "df1 = df1.drop(cols, 1)\n",
    "\n",
    "cols = ['SIRE', 'Sire']\n",
    "df1['Siref'] = df1[cols].fillna('').sum(axis=1)\n",
    "df1 = df1.drop(cols, 1)\n",
    "\n",
    "cols = ['M', 'm', 'mo']\n",
    "df1['Mf'] = df1[cols].fillna('').sum(axis=1)\n",
    "df1 = df1.drop(cols, 1)\n",
    "\n",
    "cols = ['yr', 'YR', 'year', 'Year']\n",
    "df1['Yf'] = df1[cols].fillna('').sum(axis=1)\n",
    "df1 = df1.drop(cols, 1)\n",
    "\n",
    "cols = ['out date', 'Out Date']\n",
    "df1['ODf'] = df1[cols].fillna('').sum(axis=1)\n",
    "df1 = df1.drop(cols, 1)\n",
    "\n",
    "cols = ['Under Tack', 'UT Time']\n",
    "df1['UTf'] = df1[cols].fillna('').sum(axis=1)\n",
    "df1 = df1.drop(cols, 1)\n",
    "\n",
    "cols = ['D', 'd', 'day']\n",
    "df1['UTf'] = df1[cols].fillna('').sum(axis=1)\n",
    "df1 = df1.drop(cols, 1)\n",
    "\n",
    "cols = ['AREA_ID', 'Area ID']\n",
    "df1['Areaf'] = df1[cols].fillna('').sum(axis=1)\n",
    "df1 = df1.drop(cols, 1)\n",
    "\n",
    "cols = ['State', 'state']\n",
    "df1['Statef'] = df1[cols].fillna('').sum(axis=1)\n",
    "df1 = df1.drop(cols, 1)\n",
    "\n",
    "col = df1.columns\n",
    "col"
   ]
  },
  {
   "cell_type": "code",
   "execution_count": 205,
   "metadata": {},
   "outputs": [
    {
     "data": {
      "text/plain": [
       "count    2.627400e+04\n",
       "mean     5.322240e+04\n",
       "std      3.429808e+05\n",
       "min      1.000000e+00\n",
       "25%      7.200000e+03\n",
       "50%      2.000000e+04\n",
       "75%      5.000000e+04\n",
       "max      5.329190e+07\n",
       "Name: Pricef, dtype: float64"
      ]
     },
     "execution_count": 205,
     "metadata": {},
     "output_type": "execute_result"
    }
   ],
   "source": [
    "df1['Pricef'].describe()"
   ]
  },
  {
   "cell_type": "code",
   "execution_count": 209,
   "metadata": {},
   "outputs": [
    {
     "data": {
      "text/plain": [
       "0             Unbridled\n",
       "3          Wildcat Heir\n",
       "5           Private Vow\n",
       "7               Matty G\n",
       "8      With Distinction\n",
       "             ...       \n",
       "636             Effinex\n",
       "640              Palace\n",
       "641        Cairo Prince\n",
       "642               Oxbow\n",
       "645          Get Stormy\n",
       "Name: Siref, Length: 26505, dtype: object"
      ]
     },
     "execution_count": 209,
     "metadata": {},
     "output_type": "execute_result"
    }
   ],
   "source": [
    "df1['Siref']"
   ]
  },
  {
   "cell_type": "code",
   "execution_count": 208,
   "metadata": {},
   "outputs": [],
   "source": [
    "df1.to_csv(r'C:\\Users\\Jeanne\\Documents\\personal\\Auction Results\\soldresults10yr.csv')"
   ]
  },
  {
   "cell_type": "code",
   "execution_count": null,
   "metadata": {},
   "outputs": [],
   "source": []
  }
 ],
 "metadata": {
  "kernelspec": {
   "display_name": "Python 3",
   "language": "python",
   "name": "python3"
  },
  "language_info": {
   "codemirror_mode": {
    "name": "ipython",
    "version": 3
   },
   "file_extension": ".py",
   "mimetype": "text/x-python",
   "name": "python",
   "nbconvert_exporter": "python",
   "pygments_lexer": "ipython3",
   "version": "3.8.5"
  }
 },
 "nbformat": 4,
 "nbformat_minor": 4
}
